{
 "cells": [
  {
   "cell_type": "code",
   "execution_count": 1,
   "id": "4615f51a",
   "metadata": {},
   "outputs": [],
   "source": [
    "d = {}"
   ]
  },
  {
   "cell_type": "code",
   "execution_count": 2,
   "id": "d3474015",
   "metadata": {},
   "outputs": [
    {
     "data": {
      "text/plain": [
       "dict"
      ]
     },
     "execution_count": 2,
     "metadata": {},
     "output_type": "execute_result"
    }
   ],
   "source": [
    "type(d)"
   ]
  },
  {
   "cell_type": "code",
   "execution_count": 3,
   "id": "8c5ca769",
   "metadata": {},
   "outputs": [],
   "source": [
    "d1 = {\"name\" : \"pankaj\"}"
   ]
  },
  {
   "cell_type": "code",
   "execution_count": 4,
   "id": "807f41ac",
   "metadata": {},
   "outputs": [
    {
     "data": {
      "text/plain": [
       "{'name': 'pankaj'}"
      ]
     },
     "execution_count": 4,
     "metadata": {},
     "output_type": "execute_result"
    }
   ],
   "source": [
    "d1"
   ]
  },
  {
   "cell_type": "code",
   "execution_count": 11,
   "id": "4a40f116",
   "metadata": {},
   "outputs": [],
   "source": [
    "d2 = {234:\"pankaj\",234 : \"ravi\" }\n",
    "#key will unique so it will assign the last value "
   ]
  },
  {
   "cell_type": "code",
   "execution_count": 12,
   "id": "6f84df02",
   "metadata": {},
   "outputs": [
    {
     "data": {
      "text/plain": [
       "'ravi'"
      ]
     },
     "execution_count": 12,
     "metadata": {},
     "output_type": "execute_result"
    }
   ],
   "source": [
    "d2[234]"
   ]
  },
  {
   "cell_type": "code",
   "execution_count": 13,
   "id": "c0e13f83",
   "metadata": {},
   "outputs": [],
   "source": [
    "d3 = {'company': 'pwskills', 'course' : [\"webdev\",\"datascience\", \"javsdsa \"] }"
   ]
  },
  {
   "cell_type": "code",
   "execution_count": 18,
   "id": "0c98d393",
   "metadata": {},
   "outputs": [
    {
     "data": {
      "text/plain": [
       "'javsdsa '"
      ]
     },
     "execution_count": 18,
     "metadata": {},
     "output_type": "execute_result"
    }
   ],
   "source": [
    "d3['course'][2]\n",
    "#like this we find the value in list which is in the dictionary "
   ]
  },
  {
   "cell_type": "code",
   "execution_count": 19,
   "id": "c0fdcf6a",
   "metadata": {},
   "outputs": [],
   "source": [
    "d4 = {'number':[2,34,56,55,34], 'assignment' : (1,2,3,4,5,6),'Lunch date':{12,24,15}, 'class time' : {'webdev':8,'datasc':8,'javadsa':8} }"
   ]
  },
  {
   "cell_type": "code",
   "execution_count": 20,
   "id": "dc61982d",
   "metadata": {},
   "outputs": [
    {
     "data": {
      "text/plain": [
       "{'number': [2, 34, 56, 55, 34],\n",
       " 'assignment': (1, 2, 3, 4, 5, 6),\n",
       " 'Lunch date': {12, 15, 24},\n",
       " 'class time': {'webdev': 8, 'datasc': 8, 'javadsa': 8}}"
      ]
     },
     "execution_count": 20,
     "metadata": {},
     "output_type": "execute_result"
    }
   ],
   "source": [
    "d4"
   ]
  },
  {
   "cell_type": "code",
   "execution_count": 22,
   "id": "7b984a31",
   "metadata": {},
   "outputs": [
    {
     "data": {
      "text/plain": [
       "8"
      ]
     },
     "execution_count": 22,
     "metadata": {},
     "output_type": "execute_result"
    }
   ],
   "source": [
    "d4['class time']['javadsa']"
   ]
  },
  {
   "cell_type": "code",
   "execution_count": 23,
   "id": "6d8945b7",
   "metadata": {},
   "outputs": [],
   "source": [
    "d4['mentor'] = [\"pankaj\",\"ravi\",\"sahil\"]"
   ]
  },
  {
   "cell_type": "code",
   "execution_count": 24,
   "id": "7d7d7884",
   "metadata": {},
   "outputs": [
    {
     "data": {
      "text/plain": [
       "{'number': [2, 34, 56, 55, 34],\n",
       " 'assignment': (1, 2, 3, 4, 5, 6),\n",
       " 'Lunch date': {12, 15, 24},\n",
       " 'class time': {'webdev': 8, 'datasc': 8, 'javadsa': 8},\n",
       " 'mentor': ['pankaj', 'ravi', 'sahil']}"
      ]
     },
     "execution_count": 24,
     "metadata": {},
     "output_type": "execute_result"
    }
   ],
   "source": [
    "d4"
   ]
  },
  {
   "cell_type": "code",
   "execution_count": 25,
   "id": "37d5cdff",
   "metadata": {},
   "outputs": [],
   "source": [
    "del d4['number']"
   ]
  },
  {
   "cell_type": "code",
   "execution_count": 26,
   "id": "2936afdc",
   "metadata": {},
   "outputs": [
    {
     "data": {
      "text/plain": [
       "{'assignment': (1, 2, 3, 4, 5, 6),\n",
       " 'Lunch date': {12, 15, 24},\n",
       " 'class time': {'webdev': 8, 'datasc': 8, 'javadsa': 8},\n",
       " 'mentor': ['pankaj', 'ravi', 'sahil']}"
      ]
     },
     "execution_count": 26,
     "metadata": {},
     "output_type": "execute_result"
    }
   ],
   "source": [
    "d4"
   ]
  },
  {
   "cell_type": "code",
   "execution_count": 31,
   "id": "5887e715",
   "metadata": {},
   "outputs": [
    {
     "data": {
      "text/plain": [
       "['assignment', 'Lunch date', 'class time', 'mentor']"
      ]
     },
     "execution_count": 31,
     "metadata": {},
     "output_type": "execute_result"
    }
   ],
   "source": [
    "list(d4.keys())"
   ]
  },
  {
   "cell_type": "code",
   "execution_count": 32,
   "id": "9cc7a2a2",
   "metadata": {},
   "outputs": [
    {
     "data": {
      "text/plain": [
       "dict_values([(1, 2, 3, 4, 5, 6), {24, 12, 15}, {'webdev': 8, 'datasc': 8, 'javadsa': 8}, ['pankaj', 'ravi', 'sahil']])"
      ]
     },
     "execution_count": 32,
     "metadata": {},
     "output_type": "execute_result"
    }
   ],
   "source": [
    "d4.values()"
   ]
  },
  {
   "cell_type": "code",
   "execution_count": 33,
   "id": "764faa89",
   "metadata": {},
   "outputs": [
    {
     "data": {
      "text/plain": [
       "[(1, 2, 3, 4, 5, 6),\n",
       " {12, 15, 24},\n",
       " {'webdev': 8, 'datasc': 8, 'javadsa': 8},\n",
       " ['pankaj', 'ravi', 'sahil']]"
      ]
     },
     "execution_count": 33,
     "metadata": {},
     "output_type": "execute_result"
    }
   ],
   "source": [
    "list(d4.values())"
   ]
  },
  {
   "cell_type": "code",
   "execution_count": null,
   "id": "81242c05",
   "metadata": {},
   "outputs": [],
   "source": []
  }
 ],
 "metadata": {
  "kernelspec": {
   "display_name": "Python 3 (ipykernel)",
   "language": "python",
   "name": "python3"
  },
  "language_info": {
   "codemirror_mode": {
    "name": "ipython",
    "version": 3
   },
   "file_extension": ".py",
   "mimetype": "text/x-python",
   "name": "python",
   "nbconvert_exporter": "python",
   "pygments_lexer": "ipython3",
   "version": "3.10.9"
  }
 },
 "nbformat": 4,
 "nbformat_minor": 5
}
