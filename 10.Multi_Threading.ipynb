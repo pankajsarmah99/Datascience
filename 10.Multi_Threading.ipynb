{
 "cells": [
  {
   "cell_type": "code",
   "execution_count": 6,
   "id": "440ccd86",
   "metadata": {},
   "outputs": [],
   "source": [
    "import threading"
   ]
  },
  {
   "cell_type": "code",
   "execution_count": 9,
   "id": "880b5831",
   "metadata": {},
   "outputs": [],
   "source": [
    "def test(id):\n",
    "    print(\"prog start at %d\" % id)"
   ]
  },
  {
   "cell_type": "code",
   "execution_count": 10,
   "id": "44e4273e",
   "metadata": {},
   "outputs": [
    {
     "name": "stdout",
     "output_type": "stream",
     "text": [
      "prog start at 88\n"
     ]
    }
   ],
   "source": [
    "test(88)"
   ]
  },
  {
   "cell_type": "code",
   "execution_count": 11,
   "id": "ba7fa211",
   "metadata": {},
   "outputs": [],
   "source": [
    "#create thread for 10 times\n",
    "thread = [threading.Thread(target=test, args= (i,) )for i in range(10)]"
   ]
  },
  {
   "cell_type": "code",
   "execution_count": 12,
   "id": "ed89e663",
   "metadata": {},
   "outputs": [
    {
     "name": "stdout",
     "output_type": "stream",
     "text": [
      "prog start at 0prog start at 1\n",
      "\n",
      "prog start at 2\n",
      "prog start at 3\n",
      "prog start at 4\n",
      "prog start at 5\n",
      "prog start at 6\n",
      "prog start at 7\n",
      "prog start at 8\n",
      "prog start at 9\n"
     ]
    }
   ],
   "source": [
    "for t in thread :\n",
    "    t.start()"
   ]
  },
  {
   "cell_type": "code",
   "execution_count": 13,
   "id": "5f1dab95",
   "metadata": {},
   "outputs": [
    {
     "data": {
      "text/plain": [
       "[0, 1, 2, 3, 4, 5, 6, 7, 8, 9]"
      ]
     },
     "execution_count": 13,
     "metadata": {},
     "output_type": "execute_result"
    }
   ],
   "source": [
    "list(range(10))"
   ]
  },
  {
   "cell_type": "code",
   "execution_count": 14,
   "id": "c280c2a0",
   "metadata": {},
   "outputs": [
    {
     "data": {
      "text/plain": [
       "[<Thread(Thread-5 (test), stopped 6259421184)>,\n",
       " <Thread(Thread-6 (test), stopped 6276247552)>,\n",
       " <Thread(Thread-7 (test), stopped 6259421184)>,\n",
       " <Thread(Thread-8 (test), stopped 6259421184)>,\n",
       " <Thread(Thread-9 (test), stopped 6259421184)>,\n",
       " <Thread(Thread-10 (test), stopped 6259421184)>,\n",
       " <Thread(Thread-11 (test), stopped 6259421184)>,\n",
       " <Thread(Thread-12 (test), stopped 6259421184)>,\n",
       " <Thread(Thread-13 (test), stopped 6259421184)>,\n",
       " <Thread(Thread-14 (test), stopped 6259421184)>]"
      ]
     },
     "execution_count": 14,
     "metadata": {},
     "output_type": "execute_result"
    }
   ],
   "source": [
    "thread\n",
    "# 10 thread ois created on the system"
   ]
  },
  {
   "cell_type": "code",
   "execution_count": 16,
   "id": "21236787",
   "metadata": {},
   "outputs": [],
   "source": [
    "import threading\n",
    "import urllib.request\n",
    "\n",
    "def file_download(url, filname) :\n",
    "    urllib.request.urlretrieve(url,filname)\n",
    "    \n",
    "    \n",
    "    #it works as a retrieve the data from the web and copy the data into the location\n",
    "    \n"
   ]
  },
  {
   "cell_type": "code",
   "execution_count": 19,
   "id": "a86345a3",
   "metadata": {},
   "outputs": [],
   "source": [
    "file_download('https://raw.githubusercontent.com/itsfoss/text-files/master/agatha.txt', \"test4.txt\")"
   ]
  },
  {
   "cell_type": "code",
   "execution_count": 20,
   "id": "7cb16c3a",
   "metadata": {},
   "outputs": [],
   "source": [
    "url_list = ['https://raw.githubusercontent.com/itsfoss/text-files/master/agatha.txt', 'https://raw.githubusercontent.com/itsfoss/text-files/master/sherlock.txt','https://raw.githubusercontent.com/itsfoss/text-files/master/sample_log_file.txt' ]"
   ]
  },
  {
   "cell_type": "code",
   "execution_count": 29,
   "id": "72311bb4",
   "metadata": {},
   "outputs": [
    {
     "data": {
      "text/plain": [
       "['https://raw.githubusercontent.com/itsfoss/text-files/master/agatha.txt',\n",
       " 'https://raw.githubusercontent.com/itsfoss/text-files/master/sherlock.txt',\n",
       " 'https://raw.githubusercontent.com/itsfoss/text-files/master/sample_log_file.txt']"
      ]
     },
     "execution_count": 29,
     "metadata": {},
     "output_type": "execute_result"
    }
   ],
   "source": [
    "url_list"
   ]
  },
  {
   "cell_type": "code",
   "execution_count": 30,
   "id": "88cb39fc",
   "metadata": {},
   "outputs": [],
   "source": [
    "file_name_list = ['data1.txt', 'data2.txt', 'data3.txt']\n",
    "#by using the below concept we create multiple thread in one instance"
   ]
  },
  {
   "cell_type": "code",
   "execution_count": 33,
   "id": "aac831f5",
   "metadata": {},
   "outputs": [],
   "source": [
    "ther = [threading.Thread(target=file_download , args = (url_list[i],file_name_list[i]) ) for i in range(len(url_list))]"
   ]
  },
  {
   "cell_type": "code",
   "execution_count": 34,
   "id": "61ad4017",
   "metadata": {},
   "outputs": [
    {
     "data": {
      "text/plain": [
       "[<Thread(Thread-15 (file_download), initial)>,\n",
       " <Thread(Thread-16 (file_download), initial)>,\n",
       " <Thread(Thread-17 (file_download), initial)>]"
      ]
     },
     "execution_count": 34,
     "metadata": {},
     "output_type": "execute_result"
    }
   ],
   "source": [
    "ther"
   ]
  },
  {
   "cell_type": "code",
   "execution_count": 35,
   "id": "1136997f",
   "metadata": {},
   "outputs": [],
   "source": [
    "#now we need to start the thread so we can \n",
    "for t in ther:\n",
    "    t.start()"
   ]
  },
  {
   "cell_type": "code",
   "execution_count": 36,
   "id": "fd2c39ec",
   "metadata": {},
   "outputs": [
    {
     "data": {
      "text/plain": [
       "[<Thread(Thread-15 (file_download), stopped 6259421184)>,\n",
       " <Thread(Thread-16 (file_download), stopped 6276247552)>,\n",
       " <Thread(Thread-17 (file_download), stopped 6293073920)>]"
      ]
     },
     "execution_count": 36,
     "metadata": {},
     "output_type": "execute_result"
    }
   ],
   "source": [
    "ther"
   ]
  },
  {
   "cell_type": "code",
   "execution_count": 50,
   "id": "34f01da9",
   "metadata": {},
   "outputs": [],
   "source": [
    "import time\n"
   ]
  },
  {
   "cell_type": "code",
   "execution_count": 52,
   "id": "d1593e40",
   "metadata": {},
   "outputs": [],
   "source": [
    "def test1(id) :\n",
    "    for i in range(10) :\n",
    "        print(\"test1 %d printing %d %s\" %(id,i,time.ctime()))\n",
    "        time.sleep(1)\n",
    "        #sleep fun will slepp the program for 1 sec \n",
    "        #when we give the time to sleep then it will switch to next thread and again come back to the previous thread"
   ]
  },
  {
   "cell_type": "code",
   "execution_count": 53,
   "id": "60d81a69",
   "metadata": {},
   "outputs": [
    {
     "name": "stdout",
     "output_type": "stream",
     "text": [
      "test1 1 printing 0 Sun May 28 15:21:53 2023\n",
      "test1 1 printing 1 Sun May 28 15:21:54 2023\n",
      "test1 1 printing 2 Sun May 28 15:21:55 2023\n",
      "test1 1 printing 3 Sun May 28 15:21:56 2023\n",
      "test1 1 printing 4 Sun May 28 15:21:57 2023\n",
      "test1 1 printing 5 Sun May 28 15:21:58 2023\n",
      "test1 1 printing 6 Sun May 28 15:21:59 2023\n",
      "test1 1 printing 7 Sun May 28 15:22:00 2023\n",
      "test1 1 printing 8 Sun May 28 15:22:01 2023\n",
      "test1 1 printing 9 Sun May 28 15:22:02 2023\n"
     ]
    }
   ],
   "source": [
    "test1(1)"
   ]
  },
  {
   "cell_type": "code",
   "execution_count": 54,
   "id": "f2c71e81",
   "metadata": {},
   "outputs": [],
   "source": [
    "thread1 = [threading.Thread(target=test1, args = (i,)) for i in range(3)]"
   ]
  },
  {
   "cell_type": "code",
   "execution_count": 55,
   "id": "c3c7c5e0",
   "metadata": {},
   "outputs": [
    {
     "name": "stdout",
     "output_type": "stream",
     "text": [
      "test1 0 printing 0 Sun May 28 15:22:10 2023\n",
      "test1 1 printing 0 Sun May 28 15:22:10 2023\n",
      "test1 2 printing 0 Sun May 28 15:22:10 2023\n",
      "test1 1 printing 1 Sun May 28 15:22:11 2023\n",
      "test1 0 printing 1 Sun May 28 15:22:11 2023\n",
      "test1 2 printing 1 Sun May 28 15:22:11 2023\n",
      "test1 1 printing 2 Sun May 28 15:22:12 2023test1 0 printing 2 Sun May 28 15:22:12 2023\n",
      "\n",
      "test1 2 printing 2 Sun May 28 15:22:12 2023\n",
      "test1 0 printing 3 Sun May 28 15:22:13 2023test1 1 printing 3 Sun May 28 15:22:13 2023\n",
      "\n",
      "test1 2 printing 3 Sun May 28 15:22:13 2023\n",
      "test1 0 printing 4 Sun May 28 15:22:14 2023\n",
      "test1 1 printing 4 Sun May 28 15:22:14 2023\n",
      "test1 2 printing 4 Sun May 28 15:22:14 2023\n",
      "test1 0 printing 5 Sun May 28 15:22:15 2023\n",
      "test1 1 printing 5 Sun May 28 15:22:15 2023\n",
      "test1 2 printing 5 Sun May 28 15:22:15 2023\n",
      "test1 0 printing 6 Sun May 28 15:22:16 2023\n",
      "test1 1 printing 6 Sun May 28 15:22:16 2023\n",
      "test1 2 printing 6 Sun May 28 15:22:16 2023\n",
      "test1 0 printing 7 Sun May 28 15:22:17 2023test1 1 printing 7 Sun May 28 15:22:17 2023\n",
      "\n",
      "test1 2 printing 7 Sun May 28 15:22:17 2023\n",
      "test1 1 printing 8 Sun May 28 15:22:18 2023test1 0 printing 8 Sun May 28 15:22:18 2023\n",
      "\n",
      "test1 2 printing 8 Sun May 28 15:22:18 2023\n",
      "test1 1 printing 9 Sun May 28 15:22:19 2023\n",
      "test1 0 printing 9 Sun May 28 15:22:19 2023\n",
      "test1 2 printing 9 Sun May 28 15:22:19 2023\n"
     ]
    }
   ],
   "source": [
    "for t in thread1:\n",
    "    t.start()\n",
    "    #here in 1sec 3 program is running but in above only one is running , because of changing thread"
   ]
  },
  {
   "cell_type": "code",
   "execution_count": 57,
   "id": "897cbc44",
   "metadata": {},
   "outputs": [],
   "source": [
    "shared_var = 0\n",
    "lock_var = threading.Lock()"
   ]
  },
  {
   "cell_type": "code",
   "execution_count": 63,
   "id": "9cbd6c59",
   "metadata": {},
   "outputs": [
    {
     "name": "stdout",
     "output_type": "stream",
     "text": [
      "test2 id is 0 has increased the shared variable by 1 \n",
      "test2 id is 1 has increased the shared variable by 2 \n",
      "test2 id is 2 has increased the shared variable by 3 \n"
     ]
    }
   ],
   "source": [
    "shared_var = 0\n",
    "lock_var = threading.Lock()\n",
    "\n",
    "def test2(id) :\n",
    "    global shared_var\n",
    "    with lock_var :\n",
    "        shared_var = shared_var + 1\n",
    "        print(\"test2 id is %d has increased the shared variable by %d \" %(id,shared_var))\n",
    "        time.sleep(1)\n",
    "ther3 = [threading.Thread(target=test2, args = (i,)) for i in range(3)]\n",
    "for t in ther3:\n",
    "    t.start()"
   ]
  },
  {
   "cell_type": "code",
   "execution_count": 59,
   "id": "e50c2e46",
   "metadata": {},
   "outputs": [],
   "source": [
    "ther3 = [threading.Thread(target=test2, args = (id,)) for i in range(3)]"
   ]
  },
  {
   "cell_type": "code",
   "execution_count": 60,
   "id": "f7988368",
   "metadata": {},
   "outputs": [
    {
     "data": {
      "text/plain": [
       "[<Thread(Thread-24 (test2), initial)>,\n",
       " <Thread(Thread-25 (test2), initial)>,\n",
       " <Thread(Thread-26 (test2), initial)>]"
      ]
     },
     "execution_count": 60,
     "metadata": {},
     "output_type": "execute_result"
    }
   ],
   "source": [
    "ther3"
   ]
  },
  {
   "cell_type": "code",
   "execution_count": null,
   "id": "1bf913aa",
   "metadata": {},
   "outputs": [],
   "source": [
    "#this is all about the Threading "
   ]
  }
 ],
 "metadata": {
  "kernelspec": {
   "display_name": "Python 3 (ipykernel)",
   "language": "python",
   "name": "python3"
  },
  "language_info": {
   "codemirror_mode": {
    "name": "ipython",
    "version": 3
   },
   "file_extension": ".py",
   "mimetype": "text/x-python",
   "name": "python",
   "nbconvert_exporter": "python",
   "pygments_lexer": "ipython3",
   "version": "3.10.9"
  }
 },
 "nbformat": 4,
 "nbformat_minor": 5
}
