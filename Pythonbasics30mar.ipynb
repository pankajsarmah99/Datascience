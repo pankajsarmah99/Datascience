{
 "cells": [
  {
   "cell_type": "code",
   "execution_count": 1,
   "id": "1e502895",
   "metadata": {},
   "outputs": [
    {
     "data": {
      "text/plain": [
       "17"
      ]
     },
     "execution_count": 1,
     "metadata": {},
     "output_type": "execute_result"
    }
   ],
   "source": [
    "8+9"
   ]
  },
  {
   "cell_type": "code",
   "execution_count": 2,
   "id": "261f9876",
   "metadata": {},
   "outputs": [
    {
     "data": {
      "text/plain": [
       "56"
      ]
     },
     "execution_count": 2,
     "metadata": {},
     "output_type": "execute_result"
    }
   ],
   "source": [
    "8*7"
   ]
  },
  {
   "cell_type": "code",
   "execution_count": 3,
   "id": "4b3af394",
   "metadata": {},
   "outputs": [
    {
     "data": {
      "text/plain": [
       "16"
      ]
     },
     "execution_count": 3,
     "metadata": {},
     "output_type": "execute_result"
    }
   ],
   "source": [
    "7+9"
   ]
  },
  {
   "cell_type": "code",
   "execution_count": 4,
   "id": "23daa2d4",
   "metadata": {},
   "outputs": [],
   "source": [
    "s = \"pwskills\""
   ]
  },
  {
   "cell_type": "code",
   "execution_count": 6,
   "id": "d551ffca",
   "metadata": {},
   "outputs": [
    {
     "data": {
      "text/plain": [
       "'i'"
      ]
     },
     "execution_count": 6,
     "metadata": {},
     "output_type": "execute_result"
    }
   ],
   "source": [
    "s[4]\n",
    "# we can find the element by forward indexing and backward indexing also , like s[-3] also."
   ]
  },
  {
   "cell_type": "code",
   "execution_count": 7,
   "id": "0c4f1335",
   "metadata": {},
   "outputs": [
    {
     "data": {
      "text/plain": [
       "'pws'"
      ]
     },
     "execution_count": 7,
     "metadata": {},
     "output_type": "execute_result"
    }
   ],
   "source": [
    "s[0:3]\n",
    "#its called slicing like pizza piece , it print the upper bound -1 element "
   ]
  },
  {
   "cell_type": "code",
   "execution_count": 8,
   "id": "72f3d8e6",
   "metadata": {},
   "outputs": [
    {
     "data": {
      "text/plain": [
       "'pwsk'"
      ]
     },
     "execution_count": 8,
     "metadata": {},
     "output_type": "execute_result"
    }
   ],
   "source": [
    "s[0:4]"
   ]
  },
  {
   "cell_type": "code",
   "execution_count": 10,
   "id": "f9e7b527",
   "metadata": {},
   "outputs": [
    {
     "data": {
      "text/plain": [
       "'psil'"
      ]
     },
     "execution_count": 10,
     "metadata": {},
     "output_type": "execute_result"
    }
   ],
   "source": [
    "s[0:8:2]\n",
    "# here it will goes from 0 index to 8 index but it will print only that element after 1 jump , if we canot assign any value at last by default it will be 1.\n"
   ]
  },
  {
   "cell_type": "code",
   "execution_count": 11,
   "id": "a628a313",
   "metadata": {},
   "outputs": [
    {
     "data": {
      "text/plain": [
       "'pkl'"
      ]
     },
     "execution_count": 11,
     "metadata": {},
     "output_type": "execute_result"
    }
   ],
   "source": [
    "s[0:8:3]\n",
    "#here it will jump 2 index from 0 onwards .3 means 3-1 = 2. means 3 index from 0 "
   ]
  },
  {
   "cell_type": "code",
   "execution_count": 12,
   "id": "3db0f261",
   "metadata": {},
   "outputs": [
    {
     "data": {
      "text/plain": [
       "'i'"
      ]
     },
     "execution_count": 12,
     "metadata": {},
     "output_type": "execute_result"
    }
   ],
   "source": [
    "s[4]"
   ]
  },
  {
   "cell_type": "code",
   "execution_count": 14,
   "id": "362bd4dc",
   "metadata": {},
   "outputs": [
    {
     "data": {
      "text/plain": [
       "'psil'"
      ]
     },
     "execution_count": 14,
     "metadata": {},
     "output_type": "execute_result"
    }
   ],
   "source": [
    "s[::2]\n",
    "#means it will jump 2 from the starting index to last index"
   ]
  },
  {
   "cell_type": "code",
   "execution_count": 15,
   "id": "657e6cc1",
   "metadata": {},
   "outputs": [
    {
     "data": {
      "text/plain": [
       "'sil'"
      ]
     },
     "execution_count": 15,
     "metadata": {},
     "output_type": "execute_result"
    }
   ],
   "source": [
    "s[2::2]"
   ]
  },
  {
   "cell_type": "code",
   "execution_count": 16,
   "id": "ad104b2c",
   "metadata": {},
   "outputs": [
    {
     "data": {
      "text/plain": [
       "'sllikswp'"
      ]
     },
     "execution_count": 16,
     "metadata": {},
     "output_type": "execute_result"
    }
   ],
   "source": [
    "s[::-1]\n",
    "#to print the reverse of a string"
   ]
  },
  {
   "cell_type": "code",
   "execution_count": 17,
   "id": "557d29ee",
   "metadata": {},
   "outputs": [
    {
     "data": {
      "text/plain": [
       "''"
      ]
     },
     "execution_count": 17,
     "metadata": {},
     "output_type": "execute_result"
    }
   ],
   "source": [
    "s[2:7:-1]\n",
    "#here we start the point from 2 to 7 and we want to go -1 so direction is conflick thats why it comes blank "
   ]
  },
  {
   "cell_type": "code",
   "execution_count": 18,
   "id": "cdff330f",
   "metadata": {},
   "outputs": [
    {
     "data": {
      "text/plain": [
       "'sllik'"
      ]
     },
     "execution_count": 18,
     "metadata": {},
     "output_type": "execute_result"
    }
   ],
   "source": [
    "s[7:2:-1]"
   ]
  },
  {
   "cell_type": "code",
   "execution_count": 19,
   "id": "74466c5f",
   "metadata": {},
   "outputs": [
    {
     "data": {
      "text/plain": [
       "''"
      ]
     },
     "execution_count": 19,
     "metadata": {},
     "output_type": "execute_result"
    }
   ],
   "source": [
    "s[8:0]"
   ]
  },
  {
   "cell_type": "code",
   "execution_count": 22,
   "id": "8224118c",
   "metadata": {},
   "outputs": [
    {
     "data": {
      "text/plain": [
       "''"
      ]
     },
     "execution_count": 22,
     "metadata": {},
     "output_type": "execute_result"
    }
   ],
   "source": [
    "s[8:0:-1]"
   ]
  },
  {
   "cell_type": "code",
   "execution_count": 21,
   "id": "62780726",
   "metadata": {},
   "outputs": [
    {
     "data": {
      "text/plain": [
       "'pwskills'"
      ]
     },
     "execution_count": 21,
     "metadata": {},
     "output_type": "execute_result"
    }
   ],
   "source": [
    "s"
   ]
  },
  {
   "cell_type": "code",
   "execution_count": 23,
   "id": "26018594",
   "metadata": {},
   "outputs": [
    {
     "data": {
      "text/plain": [
       "'sllikswp'"
      ]
     },
     "execution_count": 23,
     "metadata": {},
     "output_type": "execute_result"
    }
   ],
   "source": [
    "s[::-1]"
   ]
  },
  {
   "cell_type": "code",
   "execution_count": 25,
   "id": "c377dd9b",
   "metadata": {},
   "outputs": [
    {
     "data": {
      "text/plain": [
       "'lliksw'"
      ]
     },
     "execution_count": 25,
     "metadata": {},
     "output_type": "execute_result"
    }
   ],
   "source": [
    "s[-2:-8:-1]"
   ]
  },
  {
   "cell_type": "code",
   "execution_count": 27,
   "id": "d55bd4a3",
   "metadata": {},
   "outputs": [
    {
     "data": {
      "text/plain": [
       "'llikswp'"
      ]
     },
     "execution_count": 27,
     "metadata": {},
     "output_type": "execute_result"
    }
   ],
   "source": [
    "s[-2::-1]\n",
    "#if we canot give the upper bound then it will take last index +1 and print all element "
   ]
  },
  {
   "cell_type": "code",
   "execution_count": 29,
   "id": "a7a9b975",
   "metadata": {},
   "outputs": [
    {
     "data": {
      "text/plain": [
       "'pwskills'"
      ]
     },
     "execution_count": 29,
     "metadata": {},
     "output_type": "execute_result"
    }
   ],
   "source": [
    "s\n",
    "#s[90] will give you error because 90 index is not present , but if we type s[:-90:-1] then it will print the element because sliceing is done\n",
    "# In slicing upperbound doesnot matter "
   ]
  },
  {
   "cell_type": "code",
   "execution_count": 30,
   "id": "b1860c4b",
   "metadata": {},
   "outputs": [
    {
     "data": {
      "text/plain": [
       "17"
      ]
     },
     "execution_count": 30,
     "metadata": {},
     "output_type": "execute_result"
    }
   ],
   "source": [
    "9+8"
   ]
  },
  {
   "cell_type": "code",
   "execution_count": 31,
   "id": "abe338d6",
   "metadata": {},
   "outputs": [],
   "source": [
    "c = 200"
   ]
  },
  {
   "cell_type": "code",
   "execution_count": 32,
   "id": "a0386af3",
   "metadata": {},
   "outputs": [
    {
     "data": {
      "text/plain": [
       "int"
      ]
     },
     "execution_count": 32,
     "metadata": {},
     "output_type": "execute_result"
    }
   ],
   "source": [
    "type(c)"
   ]
  },
  {
   "cell_type": "code",
   "execution_count": 33,
   "id": "0e35a3c1",
   "metadata": {},
   "outputs": [],
   "source": [
    "c = \"200\""
   ]
  },
  {
   "cell_type": "code",
   "execution_count": 34,
   "id": "33cd7b41",
   "metadata": {},
   "outputs": [
    {
     "data": {
      "text/plain": [
       "str"
      ]
     },
     "execution_count": 34,
     "metadata": {},
     "output_type": "execute_result"
    }
   ],
   "source": [
    "type(c)"
   ]
  },
  {
   "cell_type": "code",
   "execution_count": 35,
   "id": "aa29ef46",
   "metadata": {},
   "outputs": [],
   "source": [
    "s1 = \"this is my string class\""
   ]
  },
  {
   "cell_type": "code",
   "execution_count": 37,
   "id": "7d230c6a",
   "metadata": {},
   "outputs": [
    {
     "data": {
      "text/plain": [
       "23"
      ]
     },
     "execution_count": 37,
     "metadata": {},
     "output_type": "execute_result"
    }
   ],
   "source": [
    "len(s1)"
   ]
  },
  {
   "cell_type": "code",
   "execution_count": 38,
   "id": "464e5bf1",
   "metadata": {},
   "outputs": [
    {
     "data": {
      "text/plain": [
       "-1"
      ]
     },
     "execution_count": 38,
     "metadata": {},
     "output_type": "execute_result"
    }
   ],
   "source": [
    "s1.find(s)"
   ]
  },
  {
   "cell_type": "code",
   "execution_count": 40,
   "id": "5d66f43f",
   "metadata": {},
   "outputs": [
    {
     "data": {
      "text/plain": [
       "3"
      ]
     },
     "execution_count": 40,
     "metadata": {},
     "output_type": "execute_result"
    }
   ],
   "source": [
    "s1.find('s')\n",
    "#it will find first s of the string , is it in the 3rd position"
   ]
  },
  {
   "cell_type": "code",
   "execution_count": 41,
   "id": "61a1700a",
   "metadata": {},
   "outputs": [
    {
     "data": {
      "text/plain": [
       "2"
      ]
     },
     "execution_count": 41,
     "metadata": {},
     "output_type": "execute_result"
    }
   ],
   "source": [
    "s1.find(\"is\")"
   ]
  },
  {
   "cell_type": "code",
   "execution_count": 43,
   "id": "09f27e30",
   "metadata": {},
   "outputs": [
    {
     "data": {
      "text/plain": [
       "-1"
      ]
     },
     "execution_count": 43,
     "metadata": {},
     "output_type": "execute_result"
    }
   ],
   "source": [
    "s1.find(\"OS\")\n",
    "#when the string is not present it will return -1"
   ]
  },
  {
   "cell_type": "code",
   "execution_count": 44,
   "id": "e88dc6a9",
   "metadata": {},
   "outputs": [
    {
     "data": {
      "text/plain": [
       "0"
      ]
     },
     "execution_count": 44,
     "metadata": {},
     "output_type": "execute_result"
    }
   ],
   "source": [
    "s1.count(s)"
   ]
  },
  {
   "cell_type": "code",
   "execution_count": 45,
   "id": "0252405f",
   "metadata": {},
   "outputs": [
    {
     "data": {
      "text/plain": [
       "5"
      ]
     },
     "execution_count": 45,
     "metadata": {},
     "output_type": "execute_result"
    }
   ],
   "source": [
    "s1.count(\"s\")"
   ]
  },
  {
   "cell_type": "code",
   "execution_count": 46,
   "id": "2047e1d2",
   "metadata": {},
   "outputs": [
    {
     "data": {
      "text/plain": [
       "0"
      ]
     },
     "execution_count": 46,
     "metadata": {},
     "output_type": "execute_result"
    }
   ],
   "source": [
    "s1.count('z')"
   ]
  },
  {
   "cell_type": "code",
   "execution_count": 47,
   "id": "bcf6c477",
   "metadata": {},
   "outputs": [
    {
     "data": {
      "text/plain": [
       "'THIS IS MY STRING CLASS'"
      ]
     },
     "execution_count": 47,
     "metadata": {},
     "output_type": "execute_result"
    }
   ],
   "source": [
    "#to convert uppercase the latter of the string \n",
    "s1.upper()"
   ]
  },
  {
   "cell_type": "code",
   "execution_count": 48,
   "id": "5116c86e",
   "metadata": {},
   "outputs": [],
   "source": [
    "s2 = 'THIS IS MY STRING CLASS'"
   ]
  },
  {
   "cell_type": "code",
   "execution_count": 49,
   "id": "3b6e86fa",
   "metadata": {},
   "outputs": [
    {
     "data": {
      "text/plain": [
       "'this is my string class'"
      ]
     },
     "execution_count": 49,
     "metadata": {},
     "output_type": "execute_result"
    }
   ],
   "source": [
    "s2.lower()"
   ]
  },
  {
   "cell_type": "code",
   "execution_count": 51,
   "id": "e6d4d281",
   "metadata": {},
   "outputs": [
    {
     "data": {
      "text/plain": [
       "'This Is My String Class'"
      ]
     },
     "execution_count": 51,
     "metadata": {},
     "output_type": "execute_result"
    }
   ],
   "source": [
    "s2.title()\n",
    "#to convert first latter as a title of the string . we use title fun."
   ]
  },
  {
   "cell_type": "code",
   "execution_count": 54,
   "id": "aaf899dd",
   "metadata": {},
   "outputs": [
    {
     "data": {
      "text/plain": [
       "'This is my string class'"
      ]
     },
     "execution_count": 54,
     "metadata": {},
     "output_type": "execute_result"
    }
   ],
   "source": [
    "s2.capitalize()\n",
    "#this is capital the string first latter"
   ]
  },
  {
   "cell_type": "code",
   "execution_count": 55,
   "id": "eddd474b",
   "metadata": {},
   "outputs": [
    {
     "data": {
      "text/plain": [
       "'pwskills'"
      ]
     },
     "execution_count": 55,
     "metadata": {},
     "output_type": "execute_result"
    }
   ],
   "source": [
    "s"
   ]
  },
  {
   "cell_type": "code",
   "execution_count": 65,
   "id": "a13cb9f8",
   "metadata": {},
   "outputs": [
    {
     "data": {
      "text/plain": [
       "'ok \\nhke \\nnkll'"
      ]
     },
     "execution_count": 65,
     "metadata": {},
     "output_type": "execute_result"
    }
   ],
   "source": [
    "s + \" pankaj\"\n",
    "#only str with add with str , no int will add with str\n"
   ]
  },
  {
   "cell_type": "code",
   "execution_count": 60,
   "id": "95a28a0e",
   "metadata": {},
   "outputs": [
    {
     "data": {
      "text/plain": [
       "'pwskillspwskillspwskills'"
      ]
     },
     "execution_count": 60,
     "metadata": {},
     "output_type": "execute_result"
    }
   ],
   "source": [
    "s * 3"
   ]
  },
  {
   "cell_type": "code",
   "execution_count": null,
   "id": "7588d72c",
   "metadata": {},
   "outputs": [],
   "source": []
  }
 ],
 "metadata": {
  "kernelspec": {
   "display_name": "Python 3 (ipykernel)",
   "language": "python",
   "name": "python3"
  },
  "language_info": {
   "codemirror_mode": {
    "name": "ipython",
    "version": 3
   },
   "file_extension": ".py",
   "mimetype": "text/x-python",
   "name": "python",
   "nbconvert_exporter": "python",
   "pygments_lexer": "ipython3",
   "version": "3.10.9"
  }
 },
 "nbformat": 4,
 "nbformat_minor": 5
}
