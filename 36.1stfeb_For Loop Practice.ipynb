{
 "cells": [
  {
   "cell_type": "code",
   "execution_count": 1,
   "id": "3ec638bb",
   "metadata": {},
   "outputs": [
    {
     "name": "stdout",
     "output_type": "stream",
     "text": [
      "1\n",
      "2\n",
      "3\n",
      "4\n"
     ]
    }
   ],
   "source": [
    "l = [1,2,3,4]\n",
    "for i in l:\n",
    "    print(i)"
   ]
  },
  {
   "cell_type": "code",
   "execution_count": 2,
   "id": "acfd5ead",
   "metadata": {},
   "outputs": [],
   "source": [
    "l1 = [\"pankaj\", \" sahil\", \"ravi\",\"kuki\"]"
   ]
  },
  {
   "cell_type": "code",
   "execution_count": 3,
   "id": "b4841c0f",
   "metadata": {},
   "outputs": [
    {
     "name": "stdout",
     "output_type": "stream",
     "text": [
      "pankaj\n",
      " sahil\n",
      "ravi\n",
      "kuki\n"
     ]
    }
   ],
   "source": [
    "for i in l1:\n",
    "    print(i)"
   ]
  },
  {
   "cell_type": "code",
   "execution_count": 4,
   "id": "5659db26",
   "metadata": {},
   "outputs": [
    {
     "name": "stdout",
     "output_type": "stream",
     "text": [
      "pankaj\n",
      " sahil\n",
      "ravi\n",
      "kuki\n",
      "only after executing the for loop else part will be execute\n"
     ]
    }
   ],
   "source": [
    "for i in l1:\n",
    "    print(i)\n",
    "else:\n",
    "    print(\"only after executing the for loop else part will be execute\")"
   ]
  },
  {
   "cell_type": "code",
   "execution_count": 6,
   "id": "26ab74f2",
   "metadata": {},
   "outputs": [
    {
     "name": "stdout",
     "output_type": "stream",
     "text": [
      "pankaj\n"
     ]
    }
   ],
   "source": [
    "for i in l1:\n",
    "    if i == \" sahil\":\n",
    "        break\n",
    "    print(i)\n",
    "else:\n",
    "    print(\"execute this if for loop is able to complete itself\")\n",
    "    #here for loop is not completing thats why only pankaj is print "
   ]
  },
  {
   "cell_type": "code",
   "execution_count": 9,
   "id": "353f7f3f",
   "metadata": {},
   "outputs": [
    {
     "name": "stdout",
     "output_type": "stream",
     "text": [
      "pankaj\n",
      "ravi\n",
      "kuki\n"
     ]
    }
   ],
   "source": [
    "for i in l1:\n",
    "    if i == \" sahil\":\n",
    "        continue\n",
    "    print(i)\n",
    "    #here we use the continue by using continue it will skip that statement and follow other statement , so here sahil is not printing . continue will send the control immidiately to the for loop   "
   ]
  },
  {
   "cell_type": "code",
   "execution_count": 10,
   "id": "9ec6f390",
   "metadata": {},
   "outputs": [
    {
     "data": {
      "text/plain": [
       "range(0, 5)"
      ]
     },
     "execution_count": 10,
     "metadata": {},
     "output_type": "execute_result"
    }
   ],
   "source": [
    "range(5)"
   ]
  },
  {
   "cell_type": "code",
   "execution_count": 11,
   "id": "85b560a3",
   "metadata": {},
   "outputs": [
    {
     "data": {
      "text/plain": [
       "[0, 1, 2, 3, 4]"
      ]
     },
     "execution_count": 11,
     "metadata": {},
     "output_type": "execute_result"
    }
   ],
   "source": [
    "list(range(5))"
   ]
  },
  {
   "cell_type": "code",
   "execution_count": 14,
   "id": "641e9c06",
   "metadata": {},
   "outputs": [
    {
     "data": {
      "text/plain": [
       "[0, 2, 4, 6, 8, 10, 12, 14, 16, 18]"
      ]
     },
     "execution_count": 14,
     "metadata": {},
     "output_type": "execute_result"
    }
   ],
   "source": [
    "list(range(0,20,2))\n",
    "#like this we use range(), here 0 to 20 we range , nd 2 jump so we get all even numbers . 20 is upperbound so 20-1 = 19 tak jaega."
   ]
  },
  {
   "cell_type": "code",
   "execution_count": 15,
   "id": "af9eb854",
   "metadata": {},
   "outputs": [
    {
     "data": {
      "text/plain": [
       "[-10, -8, -6, -4, -2]"
      ]
     },
     "execution_count": 15,
     "metadata": {},
     "output_type": "execute_result"
    }
   ],
   "source": [
    "list(range(-10,0,2))"
   ]
  },
  {
   "cell_type": "code",
   "execution_count": 16,
   "id": "fa8de5f4",
   "metadata": {},
   "outputs": [
    {
     "name": "stdout",
     "output_type": "stream",
     "text": [
      "pankaj\n",
      " sahil\n",
      "ravi\n",
      "kuki\n"
     ]
    }
   ],
   "source": [
    "for i in range(len(l1)):\n",
    "    print(l1[i])"
   ]
  },
  {
   "cell_type": "code",
   "execution_count": 20,
   "id": "83f9b0b3",
   "metadata": {},
   "outputs": [
    {
     "name": "stdout",
     "output_type": "stream",
     "text": [
      "kuki\n",
      "ravi\n",
      " sahil\n",
      "pankaj\n"
     ]
    }
   ],
   "source": [
    "for i in range(len(l1)-1,-1,-1):\n",
    "    print(l1[i])\n",
    "    #like this we reverse the list , here we first take the len of the list as a upper bound , -1 as a lower bound and -1 as a steps , we go from ending to front so -1 steps will be needed to go .\n",
    "    #we put the range function so that everything will be automate "
   ]
  },
  {
   "cell_type": "code",
   "execution_count": 21,
   "id": "3b5e7db9",
   "metadata": {},
   "outputs": [
    {
     "name": "stdout",
     "output_type": "stream",
     "text": [
      "34\n",
      "66\n",
      "3\n",
      "5\n",
      "5\n"
     ]
    }
   ],
   "source": [
    "l2 = [34,45,66,77,3,34,5,6,5]\n",
    "for i in range(0,len(l2),2):\n",
    "    print(l2[i])"
   ]
  },
  {
   "cell_type": "code",
   "execution_count": 23,
   "id": "550c73fb",
   "metadata": {},
   "outputs": [],
   "source": [
    "l = [3,4,5,7,54,33,555,67]\n"
   ]
  },
  {
   "cell_type": "code",
   "execution_count": 26,
   "id": "533df389",
   "metadata": {},
   "outputs": [
    {
     "data": {
      "text/plain": [
       "728"
      ]
     },
     "execution_count": 26,
     "metadata": {},
     "output_type": "execute_result"
    }
   ],
   "source": [
    "result = 0\n",
    "for i in l:\n",
    "    result = result + i\n",
    "result\n",
    "#by doing this we can find the sum of element in the list "
   ]
  },
  {
   "cell_type": "code",
   "execution_count": 29,
   "id": "eea4231d",
   "metadata": {},
   "outputs": [
    {
     "name": "stdout",
     "output_type": "stream",
     "text": [
      "1\n",
      "2\n",
      "3\n",
      "4\n",
      "pankaj\n",
      "sarmah\n"
     ]
    }
   ],
   "source": [
    "#set , in set we print in this way \n",
    "s = {1,2,3,4,\"pankaj\",\"sarmah\"}\n",
    "for i in s:\n",
    "    print(i)"
   ]
  },
  {
   "cell_type": "code",
   "execution_count": 31,
   "id": "2dfde432",
   "metadata": {},
   "outputs": [
    {
     "name": "stdout",
     "output_type": "stream",
     "text": [
      "h\n",
      "l\n",
      "w\n",
      " \n",
      "w\n",
      "o\n",
      "r\n",
      "l\n",
      "d\n"
     ]
    }
   ],
   "source": [
    "s1 = \"hlw world\"\n",
    "for i in s1:\n",
    "    print(i)\n",
    "    #string also store in index format thats why it will store"
   ]
  },
  {
   "cell_type": "code",
   "execution_count": 32,
   "id": "ce9f9cfe",
   "metadata": {},
   "outputs": [
    {
     "data": {
      "text/plain": [
       "'hlw world'"
      ]
     },
     "execution_count": 32,
     "metadata": {},
     "output_type": "execute_result"
    }
   ],
   "source": [
    "s1"
   ]
  },
  {
   "cell_type": "code",
   "execution_count": 33,
   "id": "97874574",
   "metadata": {},
   "outputs": [],
   "source": [
    "d = {\"name\" : \"sudh\", \"class\" : \"data science masters\",\n",
    "    \"topic\" : [\"python\", \"state\",\"machine learning\", \"DL\", \"CV\", \"NLP\",\"resume\",\"interview\"]}"
   ]
  },
  {
   "cell_type": "code",
   "execution_count": 34,
   "id": "39011334",
   "metadata": {},
   "outputs": [
    {
     "data": {
      "text/plain": [
       "{'name': 'sudh',\n",
       " 'class': 'data science masters',\n",
       " 'topic': ['python',\n",
       "  'state',\n",
       "  'machine learning',\n",
       "  'DL',\n",
       "  'CV',\n",
       "  'NLP',\n",
       "  'resume',\n",
       "  'interview']}"
      ]
     },
     "execution_count": 34,
     "metadata": {},
     "output_type": "execute_result"
    }
   ],
   "source": [
    "d"
   ]
  },
  {
   "cell_type": "code",
   "execution_count": 35,
   "id": "e3334f2d",
   "metadata": {},
   "outputs": [
    {
     "data": {
      "text/plain": [
       "dict_keys(['name', 'class', 'topic'])"
      ]
     },
     "execution_count": 35,
     "metadata": {},
     "output_type": "execute_result"
    }
   ],
   "source": [
    "d.keys()\n",
    "#this way we can find only keys from the list "
   ]
  },
  {
   "cell_type": "code",
   "execution_count": 37,
   "id": "e1fffcc4",
   "metadata": {},
   "outputs": [
    {
     "name": "stdout",
     "output_type": "stream",
     "text": [
      "sudh\n",
      "data science masters\n",
      "['python', 'state', 'machine learning', 'DL', 'CV', 'NLP', 'resume', 'interview']\n"
     ]
    }
   ],
   "source": [
    "for i in d.keys():\n",
    "    print(d[i])"
   ]
  },
  {
   "cell_type": "code",
   "execution_count": 38,
   "id": "44c965fe",
   "metadata": {},
   "outputs": [
    {
     "name": "stdout",
     "output_type": "stream",
     "text": [
      "sudh\n",
      "data science masters\n",
      "['python', 'state', 'machine learning', 'DL', 'CV', 'NLP', 'resume', 'interview']\n"
     ]
    }
   ],
   "source": [
    "for i in d.values():\n",
    "    print(i)\n",
    "    #this way we can find the values by using for loop"
   ]
  },
  {
   "cell_type": "code",
   "execution_count": 39,
   "id": "e65809f1",
   "metadata": {},
   "outputs": [
    {
     "data": {
      "text/plain": [
       "dict_items([('name', 'sudh'), ('class', 'data science masters'), ('topic', ['python', 'state', 'machine learning', 'DL', 'CV', 'NLP', 'resume', 'interview'])])"
      ]
     },
     "execution_count": 39,
     "metadata": {},
     "output_type": "execute_result"
    }
   ],
   "source": [
    "d.items()\n",
    "#by using we can find the key : value also "
   ]
  },
  {
   "cell_type": "code",
   "execution_count": 40,
   "id": "e217664e",
   "metadata": {},
   "outputs": [
    {
     "name": "stdout",
     "output_type": "stream",
     "text": [
      "('name', 'sudh')\n",
      "('class', 'data science masters')\n",
      "('topic', ['python', 'state', 'machine learning', 'DL', 'CV', 'NLP', 'resume', 'interview'])\n"
     ]
    }
   ],
   "source": [
    "for i in d.items():\n",
    "    print(i)"
   ]
  },
  {
   "cell_type": "code",
   "execution_count": null,
   "id": "1ef60060",
   "metadata": {},
   "outputs": [],
   "source": [
    "#like this we can find the key value both in the list ."
   ]
  }
 ],
 "metadata": {
  "kernelspec": {
   "display_name": "Python 3 (ipykernel)",
   "language": "python",
   "name": "python3"
  },
  "language_info": {
   "codemirror_mode": {
    "name": "ipython",
    "version": 3
   },
   "file_extension": ".py",
   "mimetype": "text/x-python",
   "name": "python",
   "nbconvert_exporter": "python",
   "pygments_lexer": "ipython3",
   "version": "3.10.9"
  }
 },
 "nbformat": 4,
 "nbformat_minor": 5
}
