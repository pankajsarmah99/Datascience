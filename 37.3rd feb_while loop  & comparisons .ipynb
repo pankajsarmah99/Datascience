{
 "cells": [
  {
   "cell_type": "code",
   "execution_count": 1,
   "id": "f441664e",
   "metadata": {},
   "outputs": [
    {
     "name": "stdout",
     "output_type": "stream",
     "text": [
      "1\n",
      "2\n",
      "3\n",
      "4\n",
      "5\n",
      "6\n",
      "7\n",
      "8\n",
      "9\n",
      "10\n"
     ]
    }
   ],
   "source": [
    "a = 1\n",
    "while a <= 10:\n",
    "    print(a)\n",
    "    a = a+ 1\n"
   ]
  },
  {
   "cell_type": "code",
   "execution_count": 6,
   "id": "e66e7afc",
   "metadata": {},
   "outputs": [
    {
     "name": "stdout",
     "output_type": "stream",
     "text": [
      "type your limit5\n"
     ]
    },
    {
     "data": {
      "text/plain": [
       "15"
      ]
     },
     "execution_count": 6,
     "metadata": {},
     "output_type": "execute_result"
    }
   ],
   "source": [
    "#sum of the no till some point \n",
    "n = int(input(\"type your limit\"))\n",
    "starting_point = 0\n",
    "counter = 1\n",
    "\n",
    "while counter <= n:\n",
    "    starting_point = counter + starting_point\n",
    "    counter = counter + 1\n",
    "starting_point\n",
    "    \n",
    "\n"
   ]
  },
  {
   "cell_type": "code",
   "execution_count": 4,
   "id": "99d66156",
   "metadata": {},
   "outputs": [
    {
     "name": "stdout",
     "output_type": "stream",
     "text": [
      "type a namepankaj\n"
     ]
    },
    {
     "data": {
      "text/plain": [
       "[112, 97, 110, 107, 97, 106]"
      ]
     },
     "execution_count": 4,
     "metadata": {},
     "output_type": "execute_result"
    }
   ],
   "source": [
    "m = input(\"type a name\")\n",
    "list(m.encode('ascii'))\n",
    "#convert any str into ascii value "
   ]
  },
  {
   "cell_type": "code",
   "execution_count": 9,
   "id": "2ad5e5e3",
   "metadata": {},
   "outputs": [
    {
     "name": "stdout",
     "output_type": "stream",
     "text": [
      "type your no5\n"
     ]
    },
    {
     "data": {
      "text/plain": [
       "120"
      ]
     },
     "execution_count": 9,
     "metadata": {},
     "output_type": "execute_result"
    }
   ],
   "source": [
    "# Find factorial by using while loop\n",
    "number = int(input(\"type your no\"))\n",
    "factorial = 1\n",
    "while number > 0:\n",
    "    factorial = factorial * number\n",
    "    number = number - 1\n",
    "factorial\n",
    "    "
   ]
  },
  {
   "cell_type": "code",
   "execution_count": 11,
   "id": "a38d3a81",
   "metadata": {},
   "outputs": [
    {
     "name": "stdout",
     "output_type": "stream",
     "text": [
      "enter the element of no 10\n",
      "0\n",
      "1\n",
      "1\n",
      "2\n",
      "3\n",
      "5\n",
      "8\n",
      "13\n",
      "21\n",
      "34\n"
     ]
    }
   ],
   "source": [
    "#Fibonacchi series \n",
    "number = int(input(\"enter the element of no \"))\n",
    "a, b = 0, 1\n",
    "counter = 0\n",
    "while counter < number:\n",
    "    print(a)\n",
    "    c = a + b\n",
    "    a = b\n",
    "    b = c\n",
    "    counter = counter + 1\n",
    "    # here we define a and b variable in one line. starting point is from o and 1 \n",
    "    # fibonacci means 1 + 1 next will 2 , 1+2 so next will 3 "
   ]
  },
  {
   "cell_type": "code",
   "execution_count": 12,
   "id": "b670282f",
   "metadata": {},
   "outputs": [
    {
     "name": "stdout",
     "output_type": "stream",
     "text": [
      "0\n",
      "1\n",
      "1\n",
      "2\n",
      "3\n",
      "5\n",
      "8\n",
      "13\n",
      "21\n",
      "34\n"
     ]
    }
   ],
   "source": [
    "#find fibonacci by using for loop \n",
    "a, b = 0, 1\n",
    "for i in range(10):\n",
    "    print(a)\n",
    "    c = a + b\n",
    "    a = b\n",
    "    b = c"
   ]
  },
  {
   "cell_type": "code",
   "execution_count": 14,
   "id": "d45cfa60",
   "metadata": {},
   "outputs": [
    {
     "name": "stdout",
     "output_type": "stream",
     "text": [
      "enter your string pankaj\n",
      "jaknap\n"
     ]
    }
   ],
   "source": [
    "#reverse str using loop , we can reverse str by using while loop\n",
    "word = input(\"enter your string \")\n",
    "reverse = \"\"\n",
    "length = len(word)\n",
    "while length > 0:\n",
    "    reverse = reverse + word[length -1]\n",
    "    length = length - 1\n",
    "print(reverse)\n"
   ]
  },
  {
   "cell_type": "code",
   "execution_count": 15,
   "id": "3809297c",
   "metadata": {},
   "outputs": [],
   "source": [
    "#print the table of numbers \n",
    "# here we print the numbers of table \n"
   ]
  },
  {
   "cell_type": "code",
   "execution_count": 16,
   "id": "dfe16c8a",
   "metadata": {},
   "outputs": [
    {
     "name": "stdout",
     "output_type": "stream",
     "text": [
      "enter your no5\n",
      "5 * 1 = 5\n",
      "5 * 2 = 10\n",
      "5 * 3 = 15\n",
      "5 * 4 = 20\n",
      "5 * 5 = 25\n",
      "5 * 6 = 30\n",
      "5 * 7 = 35\n",
      "5 * 8 = 40\n",
      "5 * 9 = 45\n",
      "5 * 10 = 50\n"
     ]
    }
   ],
   "source": [
    "n = int(input(\"enter your no\"))\n",
    "i = 1\n",
    "while i <= 10:\n",
    "    result = n * i\n",
    "    print(n,\"*\",i,\"=\",result)\n",
    "    i = i+1"
   ]
  },
  {
   "cell_type": "code",
   "execution_count": 17,
   "id": "71896e4e",
   "metadata": {},
   "outputs": [
    {
     "name": "stdout",
     "output_type": "stream",
     "text": [
      "1\n",
      "2\n",
      "3\n"
     ]
    }
   ],
   "source": [
    "# while and if\n",
    "\n",
    "n = 5\n",
    "i = 1\n",
    "while i < n:\n",
    "    print(i)\n",
    "    if i == 3:\n",
    "        break\n",
    "    i = i + 1\n",
    "else:\n",
    "    print(\"this part will print only if the loop will execute correctly\")\n",
    "    # here we put brak thats why loop will not completed succesfully"
   ]
  },
  {
   "cell_type": "code",
   "execution_count": 18,
   "id": "461a1587",
   "metadata": {},
   "outputs": [
    {
     "data": {
      "text/plain": [
       "[1, 4, 9, 16, 25, 36]"
      ]
     },
     "execution_count": 18,
     "metadata": {},
     "output_type": "execute_result"
    }
   ],
   "source": [
    "l = [1,2,3,4,5,6]\n",
    "[i**2 for i in l]\n",
    "#by this way we can write in one line and return the squre of the list \n",
    "# here we write that i in l and return the value within the list and we increase the value within the list \n"
   ]
  },
  {
   "cell_type": "code",
   "execution_count": 19,
   "id": "717bc0b9",
   "metadata": {},
   "outputs": [
    {
     "data": {
      "text/plain": [
       "[2, 4, 6]"
      ]
     },
     "execution_count": 19,
     "metadata": {},
     "output_type": "execute_result"
    }
   ],
   "source": [
    "[i for i in l if i % 2 == 0]\n",
    "#here we write for i to l and write the condition i % 2 == 0 i.e postive no , and return the no in the list so we write i in the last but put into first index  "
   ]
  },
  {
   "cell_type": "code",
   "execution_count": 22,
   "id": "56c5abe2",
   "metadata": {},
   "outputs": [
    {
     "data": {
      "text/plain": [
       "['PANKAJ', 'RAVI', 'KABIR', 'SHEKHAR', 'BIPLOB']"
      ]
     },
     "execution_count": 22,
     "metadata": {},
     "output_type": "execute_result"
    }
   ],
   "source": [
    "l1 = [\"pankaj\", \"ravi\",\"kabir\",\"shekhar\",\"biplob\"]\n",
    "[i.upper() for i in l1]\n",
    "#this way we can capital the string in one line \n",
    "#this is called list comparisons "
   ]
  },
  {
   "cell_type": "code",
   "execution_count": 23,
   "id": "57c1bb19",
   "metadata": {},
   "outputs": [
    {
     "data": {
      "text/plain": [
       "[1, 2, 3, 4, 5, 6]"
      ]
     },
     "execution_count": 23,
     "metadata": {},
     "output_type": "execute_result"
    }
   ],
   "source": [
    "l"
   ]
  },
  {
   "cell_type": "code",
   "execution_count": 25,
   "id": "3cd09fee",
   "metadata": {},
   "outputs": [
    {
     "data": {
      "text/plain": [
       "[1, 4, 9, 16, 25, 36]"
      ]
     },
     "execution_count": 25,
     "metadata": {},
     "output_type": "execute_result"
    }
   ],
   "source": [
    "list(i**2 for i in l)\n",
    "#this way we can change value in tuples and again print in list \n",
    "#touple comprehension"
   ]
  },
  {
   "cell_type": "code",
   "execution_count": 26,
   "id": "1e4fd030",
   "metadata": {},
   "outputs": [
    {
     "data": {
      "text/plain": [
       "{'key1': 1, 'key2': 4, 'key3': 9, 'key4': 16}"
      ]
     },
     "execution_count": 26,
     "metadata": {},
     "output_type": "execute_result"
    }
   ],
   "source": [
    "#so here square the dictionary value \n",
    "d = {\"key1\" : 1 , \"key2\": 2,\"key3\": 3,\"key4\": 4}\n",
    "{k:v**2 for k , v in d.items()}\n",
    "#here we did that for k for key and v for value in d.items() it will return whole k,v in the dict format , so we incease the v value by squaring it \n",
    "# and again wrap in dict so that we get the value in dict format "
   ]
  },
  {
   "cell_type": "code",
   "execution_count": 28,
   "id": "3bf41ca2",
   "metadata": {},
   "outputs": [
    {
     "data": {
      "text/plain": [
       "{'key2': 2, 'key3': 3, 'key4': 4}"
      ]
     },
     "execution_count": 28,
     "metadata": {},
     "output_type": "execute_result"
    }
   ],
   "source": [
    "#return only the value which is greater than 1 , \n",
    "{k:v for k, v in d.items() if v > 1}\n",
    "#so it will return only the value which is greater than 1 "
   ]
  },
  {
   "cell_type": "code",
   "execution_count": null,
   "id": "cb4702e6",
   "metadata": {},
   "outputs": [],
   "source": []
  }
 ],
 "metadata": {
  "kernelspec": {
   "display_name": "Python 3 (ipykernel)",
   "language": "python",
   "name": "python3"
  },
  "language_info": {
   "codemirror_mode": {
    "name": "ipython",
    "version": 3
   },
   "file_extension": ".py",
   "mimetype": "text/x-python",
   "name": "python",
   "nbconvert_exporter": "python",
   "pygments_lexer": "ipython3",
   "version": "3.10.9"
  }
 },
 "nbformat": 4,
 "nbformat_minor": 5
}
