{
 "cells": [
  {
   "cell_type": "code",
   "execution_count": 1,
   "id": "7b710fc4",
   "metadata": {},
   "outputs": [],
   "source": [
    "a = 1"
   ]
  },
  {
   "cell_type": "code",
   "execution_count": 2,
   "id": "d15e3036",
   "metadata": {},
   "outputs": [
    {
     "data": {
      "text/plain": [
       "int"
      ]
     },
     "execution_count": 2,
     "metadata": {},
     "output_type": "execute_result"
    }
   ],
   "source": [
    "type(a)"
   ]
  },
  {
   "cell_type": "code",
   "execution_count": 3,
   "id": "196d36cf",
   "metadata": {},
   "outputs": [
    {
     "name": "stdout",
     "output_type": "stream",
     "text": [
      "<class 'int'>\n"
     ]
    }
   ],
   "source": [
    "print(type(a))"
   ]
  },
  {
   "cell_type": "code",
   "execution_count": 4,
   "id": "5cde21e3",
   "metadata": {},
   "outputs": [],
   "source": [
    "class test:\n",
    "    pass\n",
    "#blank class "
   ]
  },
  {
   "cell_type": "code",
   "execution_count": 10,
   "id": "fd684cdd",
   "metadata": {},
   "outputs": [],
   "source": [
    "class datascience:\n",
    "    def welcome_msg(self):\n",
    "        print(\"welcome to datascience\")\n",
    "        #we. write self in the function so that class will know that the fun is bind with the cls"
   ]
  },
  {
   "cell_type": "code",
   "execution_count": 12,
   "id": "04fbf35f",
   "metadata": {},
   "outputs": [],
   "source": [
    "rohan = datascience()\n",
    "#creating obj of the class "
   ]
  },
  {
   "cell_type": "code",
   "execution_count": 13,
   "id": "22056a69",
   "metadata": {},
   "outputs": [
    {
     "name": "stdout",
     "output_type": "stream",
     "text": [
      "welcome to datascience\n"
     ]
    }
   ],
   "source": [
    "#now we cl the fun of that class by using obj\n",
    "rohan.welcome_msg()"
   ]
  },
  {
   "cell_type": "code",
   "execution_count": 14,
   "id": "1f1f6d56",
   "metadata": {},
   "outputs": [
    {
     "name": "stdout",
     "output_type": "stream",
     "text": [
      "welcome to datascience\n"
     ]
    }
   ],
   "source": [
    "gaurav = datascience()\n",
    "gaurav.welcome_msg()"
   ]
  },
  {
   "cell_type": "code",
   "execution_count": 22,
   "id": "677e67a8",
   "metadata": {},
   "outputs": [],
   "source": [
    "#define class\n",
    "class datascience1:\n",
    "    def __init__(self,phone_no, email_id, student_id):\n",
    "        self.phone_no = phone_no\n",
    "        self.email_id = email_id\n",
    "        self.student_id = student_id\n",
    "    def return_student_details(self):\n",
    "        return self.student_id, self.email_id, self.phone_no\n",
    "    \n",
    "    #__init__ is a constructor that envokes when obj is created\n",
    "    #self is reference or pointer , with the help of self we access the data of the clas\n",
    "    #when we pass the data constructor first take the data and then assign the data into self.phone_no\n",
    "    #in place of self we can use any word by any name "
   ]
  },
  {
   "cell_type": "code",
   "execution_count": 20,
   "id": "08fc18f1",
   "metadata": {},
   "outputs": [],
   "source": [
    "rohan = datascience1(7896786754,\"rohan@gmail.com\",101)\n",
    "#like this we create a class and create constructor for the class , and create obj of the class nd pass the value of the class"
   ]
  },
  {
   "cell_type": "code",
   "execution_count": 19,
   "id": "69609c1b",
   "metadata": {},
   "outputs": [
    {
     "data": {
      "text/plain": [
       "(101, 'rohan@gmail.com', 7896786754)"
      ]
     },
     "execution_count": 19,
     "metadata": {},
     "output_type": "execute_result"
    }
   ],
   "source": [
    "rohan.return_student_details()"
   ]
  },
  {
   "cell_type": "code",
   "execution_count": 21,
   "id": "6c0c2d9a",
   "metadata": {},
   "outputs": [
    {
     "data": {
      "text/plain": [
       "'rohan@gmail.com'"
      ]
     },
     "execution_count": 21,
     "metadata": {},
     "output_type": "execute_result"
    }
   ],
   "source": [
    "rohan.email_id"
   ]
  },
  {
   "cell_type": "code",
   "execution_count": 26,
   "id": "493170d7",
   "metadata": {},
   "outputs": [],
   "source": [
    "#define class\n",
    "class datascience2:\n",
    "    def __init__(pank,phone_no, email_id, student_id):\n",
    "        pank.phone_no = phone_no\n",
    "        pank.email_id = email_id\n",
    "        pank.student_id = student_id\n",
    "    def return_student_details(pank):\n",
    "        return pank.student_id, pank.email_id, pank.phone_no\n",
    "    #here we use pank instead of self \n",
    "    #pank acts as a pointer "
   ]
  },
  {
   "cell_type": "code",
   "execution_count": 27,
   "id": "ef01d11e",
   "metadata": {},
   "outputs": [],
   "source": [
    "rohan = datascience2(9089,\"rohan@gmail.com\",103)"
   ]
  },
  {
   "cell_type": "code",
   "execution_count": 28,
   "id": "7e1cbbad",
   "metadata": {},
   "outputs": [
    {
     "data": {
      "text/plain": [
       "'rohan@gmail.com'"
      ]
     },
     "execution_count": 28,
     "metadata": {},
     "output_type": "execute_result"
    }
   ],
   "source": [
    "rohan.email_id"
   ]
  },
  {
   "cell_type": "code",
   "execution_count": 29,
   "id": "94238884",
   "metadata": {},
   "outputs": [],
   "source": [
    "class datamaster:\n",
    "    def __init__(self,name,email_id,stu_id):\n",
    "        self.name = name\n",
    "        self.email_id = email_id\n",
    "        self.stu_id = stu_id\n",
    "    def return_details(self):\n",
    "        return self.name, self.email_id, self.stu_id"
   ]
  },
  {
   "cell_type": "code",
   "execution_count": 45,
   "id": "f1559f92",
   "metadata": {},
   "outputs": [],
   "source": [
    "ravi = datamaster(\"ravi\",\"ravi@gmail.com\",409)\n",
    "#so for str we use the \" \" in the data "
   ]
  },
  {
   "cell_type": "code",
   "execution_count": 46,
   "id": "e8d9766d",
   "metadata": {},
   "outputs": [
    {
     "data": {
      "text/plain": [
       "('ravi', 'ravi@gmail.com', 409)"
      ]
     },
     "execution_count": 46,
     "metadata": {},
     "output_type": "execute_result"
    }
   ],
   "source": [
    "ravi.return_details()"
   ]
  },
  {
   "cell_type": "code",
   "execution_count": 47,
   "id": "ed0485da",
   "metadata": {},
   "outputs": [],
   "source": [
    "#Polymorphism"
   ]
  },
  {
   "cell_type": "code",
   "execution_count": 48,
   "id": "7d62ec9d",
   "metadata": {},
   "outputs": [],
   "source": [
    "def test(a,b):\n",
    "    return a+b"
   ]
  },
  {
   "cell_type": "code",
   "execution_count": 49,
   "id": "2c3ff54f",
   "metadata": {},
   "outputs": [
    {
     "data": {
      "text/plain": [
       "17"
      ]
     },
     "execution_count": 49,
     "metadata": {},
     "output_type": "execute_result"
    }
   ],
   "source": [
    "test(8,9)"
   ]
  },
  {
   "cell_type": "code",
   "execution_count": 51,
   "id": "fb54f837",
   "metadata": {},
   "outputs": [
    {
     "data": {
      "text/plain": [
       "'datascience'"
      ]
     },
     "execution_count": 51,
     "metadata": {},
     "output_type": "execute_result"
    }
   ],
   "source": [
    "test(\"data\",\"science\")\n",
    "#here base fun is same but behaviour is changed every time, when we put int then it add and when we give str then it concatinate ,having many forms is called polymorphism"
   ]
  },
  {
   "cell_type": "code",
   "execution_count": 52,
   "id": "3d91a363",
   "metadata": {},
   "outputs": [],
   "source": [
    "#example of polymorphism for interview\n",
    "class web_dev:\n",
    "    def syllabus(self):\n",
    "        print(\"this is web dev syllabus\")"
   ]
  },
  {
   "cell_type": "code",
   "execution_count": 53,
   "id": "bde8cbbd",
   "metadata": {},
   "outputs": [],
   "source": [
    "class data_science:\n",
    "    def syllabus(self):\n",
    "        print(\"this is data science syllabus\")"
   ]
  },
  {
   "cell_type": "code",
   "execution_count": 55,
   "id": "508bcfec",
   "metadata": {},
   "outputs": [],
   "source": [
    "def class_percer(cls_obj):\n",
    "    for i in cls_obj:\n",
    "        i.syllabus()\n",
    "#we create this fun to call the cls , when we cl the the fun cls_obj called then for loop execute then it will call syllabus fun and within the syllabus print statement called"
   ]
  },
  {
   "cell_type": "code",
   "execution_count": 57,
   "id": "f2c2317b",
   "metadata": {},
   "outputs": [],
   "source": [
    "web_dev = web_dev()"
   ]
  },
  {
   "cell_type": "code",
   "execution_count": 58,
   "id": "cc177dc2",
   "metadata": {},
   "outputs": [],
   "source": [
    "data_science = data_science()"
   ]
  },
  {
   "cell_type": "code",
   "execution_count": 59,
   "id": "2e86bb04",
   "metadata": {},
   "outputs": [],
   "source": [
    "cls_obj = [data_science, web_dev]"
   ]
  },
  {
   "cell_type": "code",
   "execution_count": 61,
   "id": "59000a59",
   "metadata": {},
   "outputs": [
    {
     "name": "stdout",
     "output_type": "stream",
     "text": [
      "this is data science syllabus\n",
      "this is web dev syllabus\n"
     ]
    }
   ],
   "source": [
    "class_percer(cls_obj)\n",
    "#here we call the function and function prints the statement of two class , with the help of obj , we put two object into the list so it will take the list"
   ]
  },
  {
   "cell_type": "code",
   "execution_count": 62,
   "id": "c6fb91e3",
   "metadata": {},
   "outputs": [],
   "source": [
    "#Encapsulation\n",
    "\"\"\" Encapsulation in Python describes the concept of bundling data and methods within a single unit. So, for example, when you create a class, it means you are implementing encapsulation. A class is an example of encapsulation as it binds all the data members (instance variables) and methods into a single unit.\"\"\""
   ]
  },
  {
   "cell_type": "code",
   "execution_count": 89,
   "id": "64a4bb3a",
   "metadata": {},
   "outputs": [],
   "source": [
    "class car:\n",
    "    def __init__(self,year,make,model,speed):\n",
    "        self.__year = year\n",
    "        self.__make = make\n",
    "        self.__model = model\n",
    "        self.__speed = 0 # it will take 0 bydefault if we can't put any speed then it will take 0\n",
    "        ##by using __ (double underscore ) we hide the variable from the user to acheieve encapsulation\n",
    "    def set_speed(self,speed):\n",
    "        self.__speed = 0 if speed < 0 else speed\n",
    "        # here we make a function to set speed without call the variable of the class\n",
    "    def get_speed(self):\n",
    "        return self.__speed\n",
    "    #by using get and set we acheieve encapsulation"
   ]
  },
  {
   "cell_type": "code",
   "execution_count": 82,
   "id": "7caf7e12",
   "metadata": {},
   "outputs": [],
   "source": [
    "b = car(2022, \"toyota\", \"innova\", 30)"
   ]
  },
  {
   "cell_type": "code",
   "execution_count": 83,
   "id": "c9621388",
   "metadata": {},
   "outputs": [
    {
     "ename": "AttributeError",
     "evalue": "'car' object has no attribute 'year'",
     "output_type": "error",
     "traceback": [
      "\u001b[0;31m---------------------------------------------------------------------------\u001b[0m",
      "\u001b[0;31mAttributeError\u001b[0m                            Traceback (most recent call last)",
      "Cell \u001b[0;32mIn[83], line 1\u001b[0m\n\u001b[0;32m----> 1\u001b[0m \u001b[43mb\u001b[49m\u001b[38;5;241;43m.\u001b[39;49m\u001b[43myear\u001b[49m\n",
      "\u001b[0;31mAttributeError\u001b[0m: 'car' object has no attribute 'year'"
     ]
    }
   ],
   "source": [
    "b.year\n",
    "#we can't simply access the variable "
   ]
  },
  {
   "cell_type": "code",
   "execution_count": 80,
   "id": "f2fce8bd",
   "metadata": {},
   "outputs": [
    {
     "data": {
      "text/plain": [
       "2022"
      ]
     },
     "execution_count": 80,
     "metadata": {},
     "output_type": "execute_result"
    }
   ],
   "source": [
    "#to access the variable we to need to take help of class\n",
    "b._car__year\n",
    "#to access we just add _ underscore before the class and double __ before the variable , \n",
    "#__ we make private class "
   ]
  },
  {
   "cell_type": "code",
   "execution_count": 84,
   "id": "e0071d1f",
   "metadata": {},
   "outputs": [],
   "source": [
    "#as a user now we only see the 2 functions only get & set"
   ]
  },
  {
   "cell_type": "code",
   "execution_count": 85,
   "id": "3ca7f4df",
   "metadata": {},
   "outputs": [],
   "source": [
    "b.set_speed(-344)"
   ]
  },
  {
   "cell_type": "code",
   "execution_count": 88,
   "id": "b25c50ec",
   "metadata": {},
   "outputs": [
    {
     "data": {
      "text/plain": [
       "0"
      ]
     },
     "execution_count": 88,
     "metadata": {},
     "output_type": "execute_result"
    }
   ],
   "source": [
    "b.get_speed()\n",
    "#speed 0 because we input -ve number"
   ]
  },
  {
   "cell_type": "code",
   "execution_count": 92,
   "id": "66cd4e2b",
   "metadata": {},
   "outputs": [],
   "source": [
    "class bank_account:\n",
    "    def __init__(self,balance):\n",
    "        self.__balance = balance\n",
    "    def deposit(self,amount):\n",
    "        self.__balance = self.__balance + amount\n",
    "    def withdaw(self,amount):\n",
    "        if self.__balance >= amount:\n",
    "            self.__balance = self.__balance - amount\n",
    "            return True\n",
    "        else :\n",
    "            return False\n",
    "    def get_balance(self):\n",
    "        return self.__balance\n",
    "    #by using this we create fun for deposite ,withdraw ,and balance ,user can access by fun , they don't acess directly\n",
    "    "
   ]
  },
  {
   "cell_type": "code",
   "execution_count": 93,
   "id": "000adadb",
   "metadata": {},
   "outputs": [],
   "source": [
    "pankaj = bank_account(1000)"
   ]
  },
  {
   "cell_type": "code",
   "execution_count": 94,
   "id": "a9d1c54d",
   "metadata": {},
   "outputs": [],
   "source": [
    "pankaj.deposit(5000)"
   ]
  },
  {
   "cell_type": "code",
   "execution_count": 97,
   "id": "aff4fb3f",
   "metadata": {},
   "outputs": [
    {
     "data": {
      "text/plain": [
       "6000"
      ]
     },
     "execution_count": 97,
     "metadata": {},
     "output_type": "execute_result"
    }
   ],
   "source": [
    "pankaj.get_balance()\n",
    "#now it will automatically update the value "
   ]
  },
  {
   "cell_type": "code",
   "execution_count": 99,
   "id": "509c7a6f",
   "metadata": {},
   "outputs": [
    {
     "data": {
      "text/plain": [
       "'  Inheritance allows us to create a new class from an existing class.\\n\\nThe new class that is created is known as subclass (child or derived class) and the existing class from which the child class is derived is known as superclass (parent or base class).\\n   '"
      ]
     },
     "execution_count": 99,
     "metadata": {},
     "output_type": "execute_result"
    }
   ],
   "source": [
    "#Inheritance\n",
    "\"\"\" Inheritance allows us to create a new class from an existing class.\n",
    "\n",
    "The new class that is created is known as subclass (child or derived class) and the existing class from which the child class is derived is known as superclass (parent or base class).\n",
    "    \"\"\""
   ]
  },
  {
   "cell_type": "code",
   "execution_count": 100,
   "id": "c9218c0e",
   "metadata": {},
   "outputs": [],
   "source": [
    "class test:\n",
    "    def test_math(self):\n",
    "        return \"this is my first class\""
   ]
  },
  {
   "cell_type": "code",
   "execution_count": 101,
   "id": "32507236",
   "metadata": {},
   "outputs": [],
   "source": [
    "class child_test(test):\n",
    "    pass"
   ]
  },
  {
   "cell_type": "code",
   "execution_count": 102,
   "id": "14a118c4",
   "metadata": {},
   "outputs": [],
   "source": [
    "child_test_obj = child_test()"
   ]
  },
  {
   "cell_type": "code",
   "execution_count": 104,
   "id": "a241c708",
   "metadata": {},
   "outputs": [
    {
     "data": {
      "text/plain": [
       "'this is my first class'"
      ]
     },
     "execution_count": 104,
     "metadata": {},
     "output_type": "execute_result"
    }
   ],
   "source": [
    "child_test_obj.test_math()\n",
    "#so here first we create a parent class named test then we create a subclass called child_test and acquire the property of parent class , \n",
    "# after that we create a obj of child class and call the fun of parent class with the help of child class, now child class get the property of parent class thats why function define in parent class is also called in child class."
   ]
  },
  {
   "cell_type": "code",
   "execution_count": 107,
   "id": "65c34827",
   "metadata": {},
   "outputs": [],
   "source": [
    "class class1:\n",
    "    def test_class1(self):\n",
    "        return \"this is my class1\""
   ]
  },
  {
   "cell_type": "code",
   "execution_count": 108,
   "id": "1fba5821",
   "metadata": {},
   "outputs": [],
   "source": [
    "class class2(class1):\n",
    "    def test_class2(self):\n",
    "        return \"this is my class2\""
   ]
  },
  {
   "cell_type": "code",
   "execution_count": 109,
   "id": "dc58c05d",
   "metadata": {},
   "outputs": [],
   "source": [
    "class class3(class2):\n",
    "    pass"
   ]
  },
  {
   "cell_type": "code",
   "execution_count": 110,
   "id": "4019acc6",
   "metadata": {},
   "outputs": [],
   "source": [
    "b = class3()"
   ]
  },
  {
   "cell_type": "code",
   "execution_count": 111,
   "id": "5dcbb5a5",
   "metadata": {},
   "outputs": [
    {
     "data": {
      "text/plain": [
       "'this is my class2'"
      ]
     },
     "execution_count": 111,
     "metadata": {},
     "output_type": "execute_result"
    }
   ],
   "source": [
    "b.test_class2()"
   ]
  },
  {
   "cell_type": "code",
   "execution_count": 114,
   "id": "e38245d4",
   "metadata": {},
   "outputs": [
    {
     "data": {
      "text/plain": [
       "'this is my class1'"
      ]
     },
     "execution_count": 114,
     "metadata": {},
     "output_type": "execute_result"
    }
   ],
   "source": [
    "b.test_class1()\n",
    "#so here is the example of multilevel inheritance , here class 3 get the property of class1 & class2 , and we easily access the property of the class."
   ]
  },
  {
   "cell_type": "code",
   "execution_count": 115,
   "id": "73c28161",
   "metadata": {},
   "outputs": [],
   "source": [
    "#multiple inheritance example\n",
    "class class1:\n",
    "    def test_class1(self):\n",
    "        return \"this is my class1\"\n"
   ]
  },
  {
   "cell_type": "code",
   "execution_count": 116,
   "id": "0d1651c4",
   "metadata": {},
   "outputs": [],
   "source": [
    "class class2:\n",
    "    def test_class2(self):\n",
    "        return \"this is my class2\""
   ]
  },
  {
   "cell_type": "code",
   "execution_count": 118,
   "id": "0c9aff23",
   "metadata": {},
   "outputs": [],
   "source": [
    "class class3(class1, class2):\n",
    "    pass"
   ]
  },
  {
   "cell_type": "code",
   "execution_count": 119,
   "id": "a140dd96",
   "metadata": {},
   "outputs": [],
   "source": [
    "obj_class3 = class3()"
   ]
  },
  {
   "cell_type": "code",
   "execution_count": 121,
   "id": "b633f6d8",
   "metadata": {},
   "outputs": [
    {
     "data": {
      "text/plain": [
       "'this is my class1'"
      ]
     },
     "execution_count": 121,
     "metadata": {},
     "output_type": "execute_result"
    }
   ],
   "source": [
    "obj_class3.test_class1()"
   ]
  },
  {
   "cell_type": "code",
   "execution_count": 122,
   "id": "2097fd77",
   "metadata": {},
   "outputs": [
    {
     "data": {
      "text/plain": [
       "'this is my class2'"
      ]
     },
     "execution_count": 122,
     "metadata": {},
     "output_type": "execute_result"
    }
   ],
   "source": [
    "obj_class3.test_class2()"
   ]
  },
  {
   "cell_type": "code",
   "execution_count": 123,
   "id": "d0182da9",
   "metadata": {},
   "outputs": [],
   "source": [
    "#here we create 2 class and inherit the two classes proprty in one class"
   ]
  },
  {
   "cell_type": "code",
   "execution_count": 124,
   "id": "1d9fa52a",
   "metadata": {},
   "outputs": [],
   "source": [
    "#abstract class"
   ]
  },
  {
   "cell_type": "code",
   "execution_count": 130,
   "id": "ec6a921e",
   "metadata": {},
   "outputs": [],
   "source": [
    "import abc\n",
    "class datascience:\n",
    "    @abc.abstractmethod\n",
    "    def student_details(self):\n",
    "        pass\n",
    "    \n",
    "    @abc.abstractmethod\n",
    "    def student_assignment(self):\n",
    "        pass\n",
    "    \n",
    "    @abc.abstractmethod\n",
    "    def student_marks(self):\n",
    "        pass\n",
    "    \n",
    "    #here we create a abstrack class , it is a skelton of the cls , by using \n",
    "    #it is a blueprint of the class\n",
    "    "
   ]
  },
  {
   "cell_type": "code",
   "execution_count": 127,
   "id": "7b803c2a",
   "metadata": {},
   "outputs": [],
   "source": [
    "class student_details(datascience):\n",
    "    def student_detailss(self):\n",
    "        return \"this is meth for taking student details\"\n",
    "    def student_assignment(self):\n",
    "        return \"this is meth for taking assignment details\"\n",
    "    # we can access the method/fun of the datascience class in the child student details class"
   ]
  },
  {
   "cell_type": "code",
   "execution_count": 128,
   "id": "432c2a31",
   "metadata": {},
   "outputs": [],
   "source": [
    "class data_science_masters(datascience):\n",
    "    def student_details(self):\n",
    "        return \"this is for details of DSM\"\n",
    "    def student_assignment(self):\n",
    "        return \"this is for assigment of DSM\""
   ]
  },
  {
   "cell_type": "code",
   "execution_count": 129,
   "id": "96cbf88e",
   "metadata": {},
   "outputs": [
    {
     "data": {
      "text/plain": [
       "'this is for details of DSM'"
      ]
     },
     "execution_count": 129,
     "metadata": {},
     "output_type": "execute_result"
    }
   ],
   "source": [
    "dsm = data_science_masters()\n",
    "dsm.student_details()"
   ]
  },
  {
   "cell_type": "code",
   "execution_count": 131,
   "id": "66a426b6",
   "metadata": {},
   "outputs": [],
   "source": [
    "#here we create 2 classes and again describe the function on our basis , fun name same but they gives different result as class"
   ]
  },
  {
   "cell_type": "code",
   "execution_count": 132,
   "id": "487b38e6",
   "metadata": {},
   "outputs": [
    {
     "data": {
      "text/plain": [
       "' To define an abstract class, you use the abc (abstract base class) module.\\n\\nThe abc module provides you with the infrastructure for defining abstract base classes.\\nTo define an abstract method, you use the @abstractmethod decorator:\\n\\n'"
      ]
     },
     "execution_count": 132,
     "metadata": {},
     "output_type": "execute_result"
    }
   ],
   "source": [
    "\"\"\" To define an abstract class, you use the abc (abstract base class) module.\n",
    "\n",
    "The abc module provides you with the infrastructure for defining abstract base classes.\n",
    "To define an abstract method, you use the @abstractmethod decorator:\n",
    "\n",
    "\"\"\""
   ]
  },
  {
   "cell_type": "code",
   "execution_count": 133,
   "id": "8f34160c",
   "metadata": {},
   "outputs": [
    {
     "data": {
      "text/plain": [
       "' In Python, a decorator is a design pattern that allows you to modify the functionality of a function by wrapping it in another function.\\n\\nThe outer function is called the decorator, which takes the original function as an argument and returns a modified version of it.\\n\\n'"
      ]
     },
     "execution_count": 133,
     "metadata": {},
     "output_type": "execute_result"
    }
   ],
   "source": [
    "#decorator \n",
    "\"\"\" In Python, a decorator is a design pattern that allows you to modify the functionality of a function by wrapping it in another function.\n",
    "\n",
    "The outer function is called the decorator, which takes the original function as an argument and returns a modified version of it.\n",
    "\n",
    "\"\"\""
   ]
  },
  {
   "cell_type": "code",
   "execution_count": 135,
   "id": "8b335d2f",
   "metadata": {},
   "outputs": [],
   "source": [
    "def deco(func):\n",
    "    def inner_dec():\n",
    "        print(\"this is the start of my fun\")\n",
    "        func()\n",
    "        print(\"this is the end of my fun\")\n",
    "    return inner_dec"
   ]
  },
  {
   "cell_type": "code",
   "execution_count": 139,
   "id": "ec0484c6",
   "metadata": {},
   "outputs": [],
   "source": [
    "@deco\n",
    "def test1():\n",
    "    print(8+9)"
   ]
  },
  {
   "cell_type": "code",
   "execution_count": 141,
   "id": "deab8dcc",
   "metadata": {},
   "outputs": [
    {
     "name": "stdout",
     "output_type": "stream",
     "text": [
      "this is the start of my fun\n",
      "17\n",
      "this is the end of my fun\n"
     ]
    }
   ],
   "source": [
    "test1()\n",
    "#so here we make decorater and cl the decorator by @deco , when we cl the fun , fun will go to the deco funch and then execute thr print statement and the func print and then end will print "
   ]
  },
  {
   "cell_type": "code",
   "execution_count": 142,
   "id": "b4ac140e",
   "metadata": {},
   "outputs": [],
   "source": [
    "#calculate time taken by the fun \n",
    "import time\n",
    "def timer_test(func):\n",
    "    def timer_test_inner():\n",
    "        start = time.time()\n",
    "        func()\n",
    "        end = time.time()\n",
    "        print(end-start)\n",
    "    return timer_test_inner"
   ]
  },
  {
   "cell_type": "code",
   "execution_count": 143,
   "id": "b5ae784a",
   "metadata": {},
   "outputs": [],
   "source": [
    "@timer_test\n",
    "def test2():\n",
    "    print(673733%78333)\n",
    "#by using @ we use decor function "
   ]
  },
  {
   "cell_type": "code",
   "execution_count": 144,
   "id": "658a2131",
   "metadata": {},
   "outputs": [
    {
     "name": "stdout",
     "output_type": "stream",
     "text": [
      "47069\n",
      "2.8848648071289062e-05\n"
     ]
    }
   ],
   "source": [
    "test2()"
   ]
  },
  {
   "cell_type": "code",
   "execution_count": 148,
   "id": "ec70f067",
   "metadata": {},
   "outputs": [],
   "source": [
    "@timer_test\n",
    "def test():\n",
    "    for i in range(1000000):\n",
    "        pass"
   ]
  },
  {
   "cell_type": "code",
   "execution_count": 150,
   "id": "37b43260",
   "metadata": {},
   "outputs": [
    {
     "name": "stdout",
     "output_type": "stream",
     "text": [
      "0.031195878982543945\n"
     ]
    }
   ],
   "source": [
    "test()"
   ]
  },
  {
   "cell_type": "code",
   "execution_count": 151,
   "id": "0e5d5040",
   "metadata": {},
   "outputs": [],
   "source": [
    "#class method"
   ]
  },
  {
   "cell_type": "code",
   "execution_count": 156,
   "id": "347051af",
   "metadata": {},
   "outputs": [],
   "source": [
    "class datascience:\n",
    "    def __init__(self, name, email):\n",
    "        self.name = name \n",
    "        self.email = email\n",
    "    \n",
    "    @classmethod\n",
    "    def details(cls,name,email):\n",
    "        return cls(name,email)\n",
    "    #here cls is the new pointer ,we can pass the data without calling constructor\n",
    "    #classmethod is bydefault avialable so we dont need to create any new decorator \n",
    "    # so basically without creting obj we can pass the data with the help of this\n",
    "    \n",
    "    def students_details(self):\n",
    "        print(self.name, self.email)"
   ]
  },
  {
   "cell_type": "code",
   "execution_count": 161,
   "id": "1a7a94ac",
   "metadata": {},
   "outputs": [],
   "source": [
    "ds1 = datascience.details(\"pankaj\",\"pankaj@gmail.com\")\n",
    "# here basically without creating obj we can pass the data to the cls, and we can access the data of other class method also"
   ]
  },
  {
   "cell_type": "code",
   "execution_count": 162,
   "id": "68cb2088",
   "metadata": {},
   "outputs": [
    {
     "data": {
      "text/plain": [
       "'pankaj'"
      ]
     },
     "execution_count": 162,
     "metadata": {},
     "output_type": "execute_result"
    }
   ],
   "source": [
    "ds1.name"
   ]
  },
  {
   "cell_type": "code",
   "execution_count": 178,
   "id": "b520244f",
   "metadata": {},
   "outputs": [],
   "source": [
    "class datascience:\n",
    "    \n",
    "    phone_no = 600788933\n",
    "    \n",
    "    def __init__(self, name, email):\n",
    "        self.name = name \n",
    "        self.email = email\n",
    "    \n",
    "      \n",
    "    @classmethod\n",
    "    def change_no(cls, mobile):\n",
    "        datascience.phone_no = mobile\n",
    "    \n",
    "    @classmethod\n",
    "    def details(cls,name,email):\n",
    "        return cls(name,email)\n",
    "    \n",
    "    def students_details(self):\n",
    "        print(self.name, self.email)\n",
    "        #we can access the data member of member fun without the creating cls obj with the help of classmethd\n",
    "        #with the help of classmethod we decor the function and pass the data"
   ]
  },
  {
   "cell_type": "code",
   "execution_count": 173,
   "id": "f3397938",
   "metadata": {},
   "outputs": [
    {
     "data": {
      "text/plain": [
       "600788933"
      ]
     },
     "execution_count": 173,
     "metadata": {},
     "output_type": "execute_result"
    }
   ],
   "source": [
    "datascience.phone_no"
   ]
  },
  {
   "cell_type": "code",
   "execution_count": 174,
   "id": "3664945a",
   "metadata": {},
   "outputs": [],
   "source": [
    "datascience.change_no(7896541527)"
   ]
  },
  {
   "cell_type": "code",
   "execution_count": 175,
   "id": "626448f0",
   "metadata": {},
   "outputs": [
    {
     "data": {
      "text/plain": [
       "7896541527"
      ]
     },
     "execution_count": 175,
     "metadata": {},
     "output_type": "execute_result"
    }
   ],
   "source": [
    "datascience.phone_no"
   ]
  },
  {
   "cell_type": "code",
   "execution_count": 184,
   "id": "44c6c4bd",
   "metadata": {},
   "outputs": [],
   "source": [
    "class datascience3:\n",
    "    \n",
    "    phone_no = 600788933\n",
    "    \n",
    "    def __init__(self, name, email):\n",
    "        self.name = name \n",
    "        self.email = email\n",
    "    \n",
    "      \n",
    "    @classmethod\n",
    "    def change_no(cls, mobile):\n",
    "        datascience3.phone_no = mobile\n",
    "    \n",
    "    @classmethod\n",
    "    def details(cls,name,email):\n",
    "        return cls(name,email)\n",
    "    \n",
    "    def students_details(self):\n",
    "        print(self.name, self.email)"
   ]
  },
  {
   "cell_type": "code",
   "execution_count": 185,
   "id": "91a5d45a",
   "metadata": {},
   "outputs": [],
   "source": [
    "#we create external function and we will add this function at the class \n",
    "def course_details(cls, course_name):\n",
    "    print(\"course name is \", course_name) "
   ]
  },
  {
   "cell_type": "code",
   "execution_count": 186,
   "id": "5bda9701",
   "metadata": {},
   "outputs": [],
   "source": [
    "datascience3.course_details = classmethod(course_details)\n",
    "#this way we can add external fun into the class , noe course_details fun is the member function of the cls \n",
    "#classmethod is the inbuild method "
   ]
  },
  {
   "cell_type": "code",
   "execution_count": 190,
   "id": "3285beac",
   "metadata": {},
   "outputs": [
    {
     "name": "stdout",
     "output_type": "stream",
     "text": [
      "course name is  adv data science\n"
     ]
    }
   ],
   "source": [
    "datascience3.course_details(\"adv data science\")\n",
    "#now we can access the external fun by using class method \n",
    "#like this we can add much function at the course"
   ]
  },
  {
   "cell_type": "code",
   "execution_count": 191,
   "id": "8d8fe84d",
   "metadata": {},
   "outputs": [],
   "source": [
    "def mentor(cls, list_of_mentor):\n",
    "    print(list_of_mentor)"
   ]
  },
  {
   "cell_type": "code",
   "execution_count": 192,
   "id": "cf646333",
   "metadata": {},
   "outputs": [],
   "source": [
    "datascience3.mentor = classmethod(mentor)"
   ]
  },
  {
   "cell_type": "code",
   "execution_count": 194,
   "id": "756b76b1",
   "metadata": {},
   "outputs": [
    {
     "name": "stdout",
     "output_type": "stream",
     "text": [
      "['sudhansu', 'krish']\n"
     ]
    }
   ],
   "source": [
    "datascience3.mentor([\"sudhansu\",\"krish\"])\n",
    "#we pass the list of mentor and we get the list as it is"
   ]
  },
  {
   "cell_type": "code",
   "execution_count": 207,
   "id": "9ab57152",
   "metadata": {},
   "outputs": [],
   "source": [
    "class datascience4:\n",
    "    \n",
    "    phone_no = 600788933\n",
    "    \n",
    "    def __init__(self, name, email):\n",
    "        self.name = name \n",
    "        self.email = email\n",
    "    \n",
    "      \n",
    "    @classmethod\n",
    "    def change_no(cls, mobile):\n",
    "        datascience4.phone_no = mobile\n",
    "    \n",
    "    @classmethod\n",
    "    def details(cls,name,email):\n",
    "        return cls(name,email)\n",
    "    \n",
    "    def students_details(self):\n",
    "        print(self.name, self.email)"
   ]
  },
  {
   "cell_type": "code",
   "execution_count": 208,
   "id": "189200dd",
   "metadata": {},
   "outputs": [],
   "source": [
    "#delete the function of the class , we use del to delete the function\n",
    "del datascience4.change_no\n",
    "#this way we delete the function of the cls"
   ]
  },
  {
   "cell_type": "code",
   "execution_count": 210,
   "id": "bf6f2a89",
   "metadata": {},
   "outputs": [],
   "source": [
    "#Another way of delete a function\n",
    "delattr(datascience4,\"details\")\n",
    "#we use delattr and class name and pass the function name that function wants to delete\n",
    "#after executing this function is not available at the class"
   ]
  },
  {
   "cell_type": "code",
   "execution_count": 211,
   "id": "29929da1",
   "metadata": {},
   "outputs": [],
   "source": [
    "delattr(datascience3,\"phone_no\")"
   ]
  },
  {
   "cell_type": "code",
   "execution_count": 212,
   "id": "be3705d2",
   "metadata": {},
   "outputs": [],
   "source": [
    "#we can also delete the variable of the class by using delattr"
   ]
  },
  {
   "cell_type": "code",
   "execution_count": 213,
   "id": "bf106c44",
   "metadata": {},
   "outputs": [],
   "source": [
    "#static method\n",
    "\"\"\"\n",
    "Static method can be called without creating an object or instance. Simply create the method and call it directly. \"\"\""
   ]
  },
  {
   "cell_type": "code",
   "execution_count": 216,
   "id": "cf3cc105",
   "metadata": {},
   "outputs": [],
   "source": [
    "class datascience5:\n",
    "    @staticmethod\n",
    "    def mentor_class(list_mentor):\n",
    "        print(list_mentor)\n",
    "        #we create static method so that without creating obj we can call the function"
   ]
  },
  {
   "cell_type": "code",
   "execution_count": 218,
   "id": "a10295f5",
   "metadata": {},
   "outputs": [
    {
     "name": "stdout",
     "output_type": "stream",
     "text": [
      "['sudh', 'krish']\n"
     ]
    }
   ],
   "source": [
    "datascience5.mentor_class([\"sudh\",\"krish\"])"
   ]
  },
  {
   "cell_type": "code",
   "execution_count": 225,
   "id": "372225bb",
   "metadata": {},
   "outputs": [],
   "source": [
    "class datascience6:\n",
    "    @staticmethod\n",
    "    def mentor_class(list_mentor):\n",
    "        datascience6.mentor_mail_id([\"sudh@gmail.com\",\"krish@gmail.com\"])\n",
    "        print(list_mentor)\n",
    "        #like this we can static within the static\n",
    "    \n",
    "        \n",
    "    @staticmethod\n",
    "    def mentor_mail_id(list_mentor):\n",
    "        print(list_mentor)\n",
    "        \n",
    "        \n",
    "    @classmethod\n",
    "    def class_name(cls):\n",
    "        cls.mentor_class([\"sudh\",\"krish\"])\n",
    "        #now we call static method within the class method\n",
    "        \n",
    "        \n",
    "    def mentor(self, mentor_list):\n",
    "        print(mentor_list)\n",
    "        self.mentor_class([\"Pankaj\",\"Ravi\"])"
   ]
  },
  {
   "cell_type": "code",
   "execution_count": 226,
   "id": "757a9da2",
   "metadata": {},
   "outputs": [
    {
     "name": "stdout",
     "output_type": "stream",
     "text": [
      "['sudh@gmail.com', 'krish@gmail.com']\n",
      "['pankaj', 'ravi']\n"
     ]
    }
   ],
   "source": [
    "datascience6.mentor_class([\"pankaj\",\"ravi\"])\n",
    "#so it will print 2 statemeant because internally they are called "
   ]
  },
  {
   "cell_type": "code",
   "execution_count": 227,
   "id": "42fe0080",
   "metadata": {},
   "outputs": [],
   "source": [
    "ds = datascience6()"
   ]
  },
  {
   "cell_type": "code",
   "execution_count": null,
   "id": "3a170eb7",
   "metadata": {},
   "outputs": [],
   "source": []
  },
  {
   "cell_type": "code",
   "execution_count": 230,
   "id": "bd1bc09a",
   "metadata": {},
   "outputs": [
    {
     "name": "stdout",
     "output_type": "stream",
     "text": [
      "['pankaj', 'ravi']\n",
      "['sudh@gmail.com', 'krish@gmail.com']\n",
      "['Pankaj', 'Ravi']\n"
     ]
    }
   ],
   "source": [
    "ds.mentor([\"pankaj\",\"ravi\"])\n",
    "#first it will print the list that we have provide \n",
    "#secondly it will call the fun of mentor class and print the statement within the mentor class\n",
    "# print the list of mentor class\n",
    "#to utilize memory management we use static method"
   ]
  },
  {
   "cell_type": "code",
   "execution_count": 234,
   "id": "c8e19b2f",
   "metadata": {},
   "outputs": [],
   "source": [
    "#Special (Magic Dunder) Methods\n",
    "#Dunder or magic methods in Python are the methods having two prefix and suffix underscores in the method name. Dunder here means “Double Under (Underscores)”. These are commonly used for operator overloading. Few examples for magic methods are: __init__, __add__, __len__, __repr__ etc"
   ]
  },
  {
   "cell_type": "code",
   "execution_count": 235,
   "id": "b0aea0cd",
   "metadata": {},
   "outputs": [
    {
     "data": {
      "text/plain": [
       "['__abs__',\n",
       " '__add__',\n",
       " '__and__',\n",
       " '__bool__',\n",
       " '__ceil__',\n",
       " '__class__',\n",
       " '__delattr__',\n",
       " '__dir__',\n",
       " '__divmod__',\n",
       " '__doc__',\n",
       " '__eq__',\n",
       " '__float__',\n",
       " '__floor__',\n",
       " '__floordiv__',\n",
       " '__format__',\n",
       " '__ge__',\n",
       " '__getattribute__',\n",
       " '__getnewargs__',\n",
       " '__gt__',\n",
       " '__hash__',\n",
       " '__index__',\n",
       " '__init__',\n",
       " '__init_subclass__',\n",
       " '__int__',\n",
       " '__invert__',\n",
       " '__le__',\n",
       " '__lshift__',\n",
       " '__lt__',\n",
       " '__mod__',\n",
       " '__mul__',\n",
       " '__ne__',\n",
       " '__neg__',\n",
       " '__new__',\n",
       " '__or__',\n",
       " '__pos__',\n",
       " '__pow__',\n",
       " '__radd__',\n",
       " '__rand__',\n",
       " '__rdivmod__',\n",
       " '__reduce__',\n",
       " '__reduce_ex__',\n",
       " '__repr__',\n",
       " '__rfloordiv__',\n",
       " '__rlshift__',\n",
       " '__rmod__',\n",
       " '__rmul__',\n",
       " '__ror__',\n",
       " '__round__',\n",
       " '__rpow__',\n",
       " '__rrshift__',\n",
       " '__rshift__',\n",
       " '__rsub__',\n",
       " '__rtruediv__',\n",
       " '__rxor__',\n",
       " '__setattr__',\n",
       " '__sizeof__',\n",
       " '__str__',\n",
       " '__sub__',\n",
       " '__subclasshook__',\n",
       " '__truediv__',\n",
       " '__trunc__',\n",
       " '__xor__',\n",
       " 'as_integer_ratio',\n",
       " 'bit_count',\n",
       " 'bit_length',\n",
       " 'conjugate',\n",
       " 'denominator',\n",
       " 'from_bytes',\n",
       " 'imag',\n",
       " 'numerator',\n",
       " 'real',\n",
       " 'to_bytes']"
      ]
     },
     "execution_count": 235,
     "metadata": {},
     "output_type": "execute_result"
    }
   ],
   "source": [
    "dir(int)"
   ]
  },
  {
   "cell_type": "code",
   "execution_count": 236,
   "id": "93c93342",
   "metadata": {},
   "outputs": [
    {
     "data": {
      "text/plain": [
       "105"
      ]
     },
     "execution_count": 236,
     "metadata": {},
     "output_type": "execute_result"
    }
   ],
   "source": [
    "a = 100\n",
    "a + 5\n"
   ]
  },
  {
   "cell_type": "code",
   "execution_count": 237,
   "id": "00acf202",
   "metadata": {},
   "outputs": [
    {
     "data": {
      "text/plain": [
       "105"
      ]
     },
     "execution_count": 237,
     "metadata": {},
     "output_type": "execute_result"
    }
   ],
   "source": [
    "#we can also do with the help of dunder function\n",
    "a.__add__(5)"
   ]
  },
  {
   "cell_type": "code",
   "execution_count": 238,
   "id": "db81eaa2",
   "metadata": {},
   "outputs": [],
   "source": [
    "class datascience:\n",
    "    def __new__(cls):\n",
    "        print(\"this is my new\")\n",
    "    \n",
    "    def __init__(self):\n",
    "        print(\"this is my init\")\n",
    "        \n",
    "        self.mobile_number = 8978653322"
   ]
  },
  {
   "cell_type": "code",
   "execution_count": 240,
   "id": "30891fcf",
   "metadata": {},
   "outputs": [
    {
     "name": "stdout",
     "output_type": "stream",
     "text": [
      "this is my new\n"
     ]
    }
   ],
   "source": [
    "ds = datascience()\n",
    "#here constructor init isnot called , insted of that new is called"
   ]
  },
  {
   "cell_type": "code",
   "execution_count": 241,
   "id": "a74f5232",
   "metadata": {},
   "outputs": [],
   "source": [
    "class datascience1:\n",
    "    def __init__(self):\n",
    "        self.mobile_number = 8978653322\n",
    "    def __str__(self):\n",
    "        return \"this is my str\""
   ]
  },
  {
   "cell_type": "code",
   "execution_count": 242,
   "id": "3cace80a",
   "metadata": {},
   "outputs": [],
   "source": [
    "ds1 = datascience1()"
   ]
  },
  {
   "cell_type": "code",
   "execution_count": 243,
   "id": "c2f88145",
   "metadata": {},
   "outputs": [
    {
     "name": "stdout",
     "output_type": "stream",
     "text": [
      "this is my str\n"
     ]
    }
   ],
   "source": [
    "print(ds1)"
   ]
  },
  {
   "cell_type": "code",
   "execution_count": null,
   "id": "06217c4a",
   "metadata": {},
   "outputs": [],
   "source": [
    "#Property Decorators Getters, Setters, And Deletes"
   ]
  },
  {
   "cell_type": "code",
   "execution_count": 275,
   "id": "92e93961",
   "metadata": {},
   "outputs": [],
   "source": [
    "class datascience:\n",
    "    def __init__(self,course_price, course_name):\n",
    "        self.__course_price = course_price # by using __ variable becomes private variable of the class\n",
    "        self.course_name = course_name\n",
    "    \n",
    "    @property\n",
    "    def course_price_access(self):\n",
    "        return self.__course_price\n",
    "    \n",
    "    @course_price_access.setter\n",
    "    def course_price_set(self,price):\n",
    "        if price <= 3500:\n",
    "            pass\n",
    "        else:\n",
    "            self.__course_price = price\n",
    "        \n",
    "    @course_price_access.deleter\n",
    "    def delete_course_price(self):\n",
    "        del self.__course_price\n",
    "        \n",
    "    \n",
    "    #through this method we can access the private variable of the class ,for this we use @property  \n",
    "    # here we set the method to set the price of the course , for this we use geeter fun . setter and define a function\n",
    "    "
   ]
  },
  {
   "cell_type": "code",
   "execution_count": 276,
   "id": "feac5650",
   "metadata": {},
   "outputs": [],
   "source": [
    "ds = datascience(4500,\"datasciencemaster\")"
   ]
  },
  {
   "cell_type": "code",
   "execution_count": 268,
   "id": "c1ed45b7",
   "metadata": {},
   "outputs": [
    {
     "data": {
      "text/plain": [
       "4500"
      ]
     },
     "execution_count": 268,
     "metadata": {},
     "output_type": "execute_result"
    }
   ],
   "source": [
    "ds._datascience__course_price\n",
    "#to access private member we use this method , _+classname__+ variable name"
   ]
  },
  {
   "cell_type": "code",
   "execution_count": 269,
   "id": "de4ac11d",
   "metadata": {},
   "outputs": [
    {
     "data": {
      "text/plain": [
       "'datasciencemaster'"
      ]
     },
     "execution_count": 269,
     "metadata": {},
     "output_type": "execute_result"
    }
   ],
   "source": [
    "ds.course_name"
   ]
  },
  {
   "cell_type": "code",
   "execution_count": 270,
   "id": "088a1450",
   "metadata": {},
   "outputs": [
    {
     "data": {
      "text/plain": [
       "4500"
      ]
     },
     "execution_count": 270,
     "metadata": {},
     "output_type": "execute_result"
    }
   ],
   "source": [
    "ds.course_price_access\n",
    "#now we can access without caliing class name"
   ]
  },
  {
   "cell_type": "code",
   "execution_count": 271,
   "id": "5e3c9d38",
   "metadata": {},
   "outputs": [],
   "source": [
    "ds.course_price_set = 5500"
   ]
  },
  {
   "cell_type": "code",
   "execution_count": 272,
   "id": "bcd41ff2",
   "metadata": {},
   "outputs": [
    {
     "data": {
      "text/plain": [
       "5500"
      ]
     },
     "execution_count": 272,
     "metadata": {},
     "output_type": "execute_result"
    }
   ],
   "source": [
    "ds.course_price_access\n",
    "#now the course price is 5500 , we set from 4500 to 5500 , "
   ]
  },
  {
   "cell_type": "code",
   "execution_count": 273,
   "id": "76feed8d",
   "metadata": {},
   "outputs": [
    {
     "data": {
      "text/plain": [
       "5500"
      ]
     },
     "execution_count": 273,
     "metadata": {},
     "output_type": "execute_result"
    }
   ],
   "source": [
    "ds.delete_course_price"
   ]
  },
  {
   "cell_type": "code",
   "execution_count": 274,
   "id": "be33e5e0",
   "metadata": {},
   "outputs": [
    {
     "data": {
      "text/plain": [
       "5500"
      ]
     },
     "execution_count": 274,
     "metadata": {},
     "output_type": "execute_result"
    }
   ],
   "source": [
    "ds.course_price_access"
   ]
  },
  {
   "cell_type": "code",
   "execution_count": 277,
   "id": "7ca71f4a",
   "metadata": {},
   "outputs": [],
   "source": [
    "del ds.delete_course_price\n",
    "#TO delete the course price\n"
   ]
  },
  {
   "cell_type": "code",
   "execution_count": 278,
   "id": "4f131a5d",
   "metadata": {},
   "outputs": [],
   "source": [
    "# here we learn about getter , setter , deleter and modify the data and the private member and how to acess them\n"
   ]
  },
  {
   "cell_type": "code",
   "execution_count": null,
   "id": "4257c782",
   "metadata": {},
   "outputs": [],
   "source": []
  }
 ],
 "metadata": {
  "kernelspec": {
   "display_name": "Python 3 (ipykernel)",
   "language": "python",
   "name": "python3"
  },
  "language_info": {
   "codemirror_mode": {
    "name": "ipython",
    "version": 3
   },
   "file_extension": ".py",
   "mimetype": "text/x-python",
   "name": "python",
   "nbconvert_exporter": "python",
   "pygments_lexer": "ipython3",
   "version": "3.10.9"
  }
 },
 "nbformat": 4,
 "nbformat_minor": 5
}
