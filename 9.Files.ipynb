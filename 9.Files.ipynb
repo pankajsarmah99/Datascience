{
 "cells": [
  {
   "cell_type": "code",
   "execution_count": 47,
   "id": "32c50632",
   "metadata": {},
   "outputs": [],
   "source": [
    "f = open(\"test.txt\",'w')\n",
    "#now file is created"
   ]
  },
  {
   "cell_type": "code",
   "execution_count": 48,
   "id": "d81252b4",
   "metadata": {},
   "outputs": [
    {
     "ename": "NameError",
     "evalue": "name 'pwd' is not defined",
     "output_type": "error",
     "traceback": [
      "\u001b[0;31m---------------------------------------------------------------------------\u001b[0m",
      "\u001b[0;31mNameError\u001b[0m                                 Traceback (most recent call last)",
      "Cell \u001b[0;32mIn[48], line 1\u001b[0m\n\u001b[0;32m----> 1\u001b[0m \u001b[43mpwd\u001b[49m\n",
      "\u001b[0;31mNameError\u001b[0m: name 'pwd' is not defined"
     ]
    }
   ],
   "source": [
    "pwd\n",
    "#present working directory to find the location"
   ]
  },
  {
   "cell_type": "code",
   "execution_count": 49,
   "id": "abdfc0cf",
   "metadata": {},
   "outputs": [
    {
     "ename": "NameError",
     "evalue": "name 'ls' is not defined",
     "output_type": "error",
     "traceback": [
      "\u001b[0;31m---------------------------------------------------------------------------\u001b[0m",
      "\u001b[0;31mNameError\u001b[0m                                 Traceback (most recent call last)",
      "Cell \u001b[0;32mIn[49], line 1\u001b[0m\n\u001b[0;32m----> 1\u001b[0m \u001b[43mls\u001b[49m\n",
      "\u001b[0;31mNameError\u001b[0m: name 'ls' is not defined"
     ]
    }
   ],
   "source": [
    "ls\n",
    "#here we see that test.txt is here created"
   ]
  },
  {
   "cell_type": "code",
   "execution_count": 50,
   "id": "db2d2c6e",
   "metadata": {},
   "outputs": [
    {
     "data": {
      "text/plain": [
       "21"
      ]
     },
     "execution_count": 50,
     "metadata": {},
     "output_type": "execute_result"
    }
   ],
   "source": [
    "f.write(\"this is my first file\")"
   ]
  },
  {
   "cell_type": "code",
   "execution_count": 16,
   "id": "24bea2b3",
   "metadata": {},
   "outputs": [],
   "source": [
    "f.close()"
   ]
  },
  {
   "cell_type": "code",
   "execution_count": 17,
   "id": "bff26570",
   "metadata": {},
   "outputs": [],
   "source": [
    "f = open(\"test.txt\",'w')"
   ]
  },
  {
   "cell_type": "code",
   "execution_count": 18,
   "id": "aa7ced68",
   "metadata": {},
   "outputs": [
    {
     "data": {
      "text/plain": [
       "15"
      ]
     },
     "execution_count": 18,
     "metadata": {},
     "output_type": "execute_result"
    }
   ],
   "source": [
    "f.write(\"this is my file\")"
   ]
  },
  {
   "cell_type": "code",
   "execution_count": 19,
   "id": "e5c3a843",
   "metadata": {},
   "outputs": [],
   "source": [
    "f.close()"
   ]
  },
  {
   "cell_type": "code",
   "execution_count": 24,
   "id": "33d9b83d",
   "metadata": {},
   "outputs": [],
   "source": [
    "f = open(\"test.txt\",'a')\n",
    "# a = append\n",
    "#using this previous data will not be deleted and new data is added after that"
   ]
  },
  {
   "cell_type": "code",
   "execution_count": 25,
   "id": "22bcb287",
   "metadata": {},
   "outputs": [
    {
     "data": {
      "text/plain": [
       "269"
      ]
     },
     "execution_count": 25,
     "metadata": {},
     "output_type": "execute_result"
    }
   ],
   "source": [
    "f.write(\"Assam Electricity Grid Corporation Limited. Last Date: 11/06/2023.   Assam Electricity Grid Corporation Limited (AEGCL) has released an employment notification for the recruitment of 109 Assistant Manager and Junior Manager vacancy in Assam Electricity Grid Corporation\")"
   ]
  },
  {
   "cell_type": "code",
   "execution_count": 23,
   "id": "3b7de588",
   "metadata": {},
   "outputs": [],
   "source": [
    "f.close()"
   ]
  },
  {
   "cell_type": "code",
   "execution_count": 26,
   "id": "8fc6faf1",
   "metadata": {},
   "outputs": [],
   "source": [
    "f = open(\"test.txt\",'r')\n",
    "#now we convert to the read mode and acces the data"
   ]
  },
  {
   "cell_type": "code",
   "execution_count": 27,
   "id": "72dbca46",
   "metadata": {},
   "outputs": [
    {
     "data": {
      "text/plain": [
       "'this is my fileAssam Electricity Grid Corporation Limited. Last Date: 11/06/2023.   Assam Electricity Grid Corporation Limited (AEGCL) has released an employment notification for the recruitment of 109 Assistant Manager and Junior Manager vacancy in Assam Electricity Grid CorporationAssam Electricity Grid Corporation Limited. Last Date: 11/06/2023.   Assam Electricity Grid Corporation Limited (AEGCL) has released an employment notification for the recruitment of 109 Assistant Manager and Junior Manager vacancy in Assam Electricity Grid Corporation'"
      ]
     },
     "execution_count": 27,
     "metadata": {},
     "output_type": "execute_result"
    }
   ],
   "source": [
    "f.read()"
   ]
  },
  {
   "cell_type": "code",
   "execution_count": 28,
   "id": "8b3f9e5c",
   "metadata": {},
   "outputs": [],
   "source": [
    "data = open(\"test.txt\",'r')\n",
    "#now we store in the data variable"
   ]
  },
  {
   "cell_type": "code",
   "execution_count": 29,
   "id": "6b4274e9",
   "metadata": {},
   "outputs": [
    {
     "data": {
      "text/plain": [
       "'this is my fileAssam Electricity Grid Corporation Limited. Last Date: 11/06/2023.   Assam Electricity Grid Corporation Limited (AEGCL) has released an employment notification for the recruitment of 109 Assistant Manager and Junior Manager vacancy in Assam Electricity Grid CorporationAssam Electricity Grid Corporation Limited. Last Date: 11/06/2023.   Assam Electricity Grid Corporation Limited (AEGCL) has released an employment notification for the recruitment of 109 Assistant Manager and Junior Manager vacancy in Assam Electricity Grid Corporation'"
      ]
     },
     "execution_count": 29,
     "metadata": {},
     "output_type": "execute_result"
    }
   ],
   "source": [
    "data.read()"
   ]
  },
  {
   "cell_type": "code",
   "execution_count": 31,
   "id": "1753a027",
   "metadata": {},
   "outputs": [
    {
     "data": {
      "text/plain": [
       "''"
      ]
     },
     "execution_count": 31,
     "metadata": {},
     "output_type": "execute_result"
    }
   ],
   "source": [
    "data.readline()"
   ]
  },
  {
   "cell_type": "code",
   "execution_count": 32,
   "id": "13a3d4ba",
   "metadata": {},
   "outputs": [
    {
     "data": {
      "text/plain": [
       "0"
      ]
     },
     "execution_count": 32,
     "metadata": {},
     "output_type": "execute_result"
    }
   ],
   "source": [
    "data.seek(0)\n",
    "#now we put the pointer at the 0 index so now data will read"
   ]
  },
  {
   "cell_type": "code",
   "execution_count": 33,
   "id": "00b069b6",
   "metadata": {},
   "outputs": [
    {
     "data": {
      "text/plain": [
       "'this is my fileAssam Electricity Grid Corporation Limited. Last Date: 11/06/2023.   Assam Electricity Grid Corporation Limited (AEGCL) has released an employment notification for the recruitment of 109 Assistant Manager and Junior Manager vacancy in Assam Electricity Grid CorporationAssam Electricity Grid Corporation Limited. Last Date: 11/06/2023.   Assam Electricity Grid Corporation Limited (AEGCL) has released an employment notification for the recruitment of 109 Assistant Manager and Junior Manager vacancy in Assam Electricity Grid Corporation'"
      ]
     },
     "execution_count": 33,
     "metadata": {},
     "output_type": "execute_result"
    }
   ],
   "source": [
    "data.readline()\n",
    "#this way we read the data"
   ]
  },
  {
   "cell_type": "code",
   "execution_count": 35,
   "id": "36dd15c8",
   "metadata": {},
   "outputs": [],
   "source": [
    "for i in data:\n",
    "    print(i)"
   ]
  },
  {
   "cell_type": "code",
   "execution_count": 52,
   "id": "a8a3fce4",
   "metadata": {},
   "outputs": [
    {
     "ename": "FileNotFoundError",
     "evalue": "[Errno 2] No such file or directory: 'test.txt'",
     "output_type": "error",
     "traceback": [
      "\u001b[0;31m---------------------------------------------------------------------------\u001b[0m",
      "\u001b[0;31mFileNotFoundError\u001b[0m                         Traceback (most recent call last)",
      "Cell \u001b[0;32mIn[52], line 1\u001b[0m\n\u001b[0;32m----> 1\u001b[0m data1 \u001b[38;5;241m=\u001b[39m \u001b[38;5;28;43mopen\u001b[39;49m\u001b[43m(\u001b[49m\u001b[38;5;124;43m\"\u001b[39;49m\u001b[38;5;124;43mtest.txt\u001b[39;49m\u001b[38;5;124;43m\"\u001b[39;49m\u001b[43m,\u001b[49m\u001b[43m \u001b[49m\u001b[38;5;124;43m'\u001b[39;49m\u001b[38;5;124;43mr\u001b[39;49m\u001b[38;5;124;43m'\u001b[39;49m\u001b[43m)\u001b[49m\n",
      "File \u001b[0;32m~/anaconda3/lib/python3.10/site-packages/IPython/core/interactiveshell.py:282\u001b[0m, in \u001b[0;36m_modified_open\u001b[0;34m(file, *args, **kwargs)\u001b[0m\n\u001b[1;32m    275\u001b[0m \u001b[38;5;28;01mif\u001b[39;00m file \u001b[38;5;129;01min\u001b[39;00m {\u001b[38;5;241m0\u001b[39m, \u001b[38;5;241m1\u001b[39m, \u001b[38;5;241m2\u001b[39m}:\n\u001b[1;32m    276\u001b[0m     \u001b[38;5;28;01mraise\u001b[39;00m \u001b[38;5;167;01mValueError\u001b[39;00m(\n\u001b[1;32m    277\u001b[0m         \u001b[38;5;124mf\u001b[39m\u001b[38;5;124m\"\u001b[39m\u001b[38;5;124mIPython won\u001b[39m\u001b[38;5;124m'\u001b[39m\u001b[38;5;124mt let you open fd=\u001b[39m\u001b[38;5;132;01m{\u001b[39;00mfile\u001b[38;5;132;01m}\u001b[39;00m\u001b[38;5;124m by default \u001b[39m\u001b[38;5;124m\"\u001b[39m\n\u001b[1;32m    278\u001b[0m         \u001b[38;5;124m\"\u001b[39m\u001b[38;5;124mas it is likely to crash IPython. If you know what you are doing, \u001b[39m\u001b[38;5;124m\"\u001b[39m\n\u001b[1;32m    279\u001b[0m         \u001b[38;5;124m\"\u001b[39m\u001b[38;5;124myou can use builtins\u001b[39m\u001b[38;5;124m'\u001b[39m\u001b[38;5;124m open.\u001b[39m\u001b[38;5;124m\"\u001b[39m\n\u001b[1;32m    280\u001b[0m     )\n\u001b[0;32m--> 282\u001b[0m \u001b[38;5;28;01mreturn\u001b[39;00m \u001b[43mio_open\u001b[49m\u001b[43m(\u001b[49m\u001b[43mfile\u001b[49m\u001b[43m,\u001b[49m\u001b[43m \u001b[49m\u001b[38;5;241;43m*\u001b[39;49m\u001b[43margs\u001b[49m\u001b[43m,\u001b[49m\u001b[43m \u001b[49m\u001b[38;5;241;43m*\u001b[39;49m\u001b[38;5;241;43m*\u001b[39;49m\u001b[43mkwargs\u001b[49m\u001b[43m)\u001b[49m\n",
      "\u001b[0;31mFileNotFoundError\u001b[0m: [Errno 2] No such file or directory: 'test.txt'"
     ]
    }
   ],
   "source": [
    "data1 = open(\"test.txt\", 'r')"
   ]
  },
  {
   "cell_type": "code",
   "execution_count": 53,
   "id": "04b2e386",
   "metadata": {},
   "outputs": [],
   "source": [
    "for i in data1:\n",
    "    print(i)\n",
    "    #it will read the data by line by line"
   ]
  },
  {
   "cell_type": "code",
   "execution_count": 46,
   "id": "c76cc5f7",
   "metadata": {},
   "outputs": [],
   "source": [
    "import os "
   ]
  },
  {
   "cell_type": "code",
   "execution_count": 41,
   "id": "8120b3c9",
   "metadata": {},
   "outputs": [
    {
     "data": {
      "text/plain": [
       "553"
      ]
     },
     "execution_count": 41,
     "metadata": {},
     "output_type": "execute_result"
    }
   ],
   "source": [
    "os.path.getsize(\"test.txt\")\n",
    "# to know the size of the file 553byte"
   ]
  },
  {
   "cell_type": "code",
   "execution_count": 51,
   "id": "124260b9",
   "metadata": {},
   "outputs": [],
   "source": [
    "os.remove(\"test.txt\")\n",
    "#to delete the existing file"
   ]
  },
  {
   "cell_type": "code",
   "execution_count": 63,
   "id": "9534d28f",
   "metadata": {},
   "outputs": [],
   "source": [
    "f = open(\"test1.txt\", 'w')"
   ]
  },
  {
   "cell_type": "code",
   "execution_count": 64,
   "id": "6f2bcba8",
   "metadata": {},
   "outputs": [
    {
     "data": {
      "text/plain": [
       "553"
      ]
     },
     "execution_count": 64,
     "metadata": {},
     "output_type": "execute_result"
    }
   ],
   "source": [
    "f.write(\"this is my fileAssam Electricity Grid Corporation Limited. Last Date: 11/06/2023.   Assam Electricity Grid Corporation Limited (AEGCL) has released an employment notification for the recruitment of 109 Assistant Manager and Junior Manager vacancy in Assam Electricity Grid CorporationAssam Electricity Grid Corporation Limited. Last Date: 11/06/2023.   Assam Electricity Grid Corporation Limited (AEGCL) has released an employment notification for the recruitment of 109 Assistant Manager and Junior Manager vacancy in Assam Electricity Grid Corporation\")"
   ]
  },
  {
   "cell_type": "code",
   "execution_count": 65,
   "id": "9ca36e8a",
   "metadata": {},
   "outputs": [],
   "source": [
    "f.close()"
   ]
  },
  {
   "cell_type": "code",
   "execution_count": 66,
   "id": "94ae6e2f",
   "metadata": {},
   "outputs": [],
   "source": [
    "data = open(\"test1.txt\",'r')"
   ]
  },
  {
   "cell_type": "code",
   "execution_count": 67,
   "id": "20d006fb",
   "metadata": {},
   "outputs": [
    {
     "data": {
      "text/plain": [
       "'this is my fileAssam Electricity Grid Corporation Limited. Last Date: 11/06/2023.   Assam Electricity Grid Corporation Limited (AEGCL) has released an employment notification for the recruitment of 109 Assistant Manager and Junior Manager vacancy in Assam Electricity Grid CorporationAssam Electricity Grid Corporation Limited. Last Date: 11/06/2023.   Assam Electricity Grid Corporation Limited (AEGCL) has released an employment notification for the recruitment of 109 Assistant Manager and Junior Manager vacancy in Assam Electricity Grid Corporation'"
      ]
     },
     "execution_count": 67,
     "metadata": {},
     "output_type": "execute_result"
    }
   ],
   "source": [
    "data.read()"
   ]
  },
  {
   "cell_type": "code",
   "execution_count": 68,
   "id": "6c754a29",
   "metadata": {},
   "outputs": [],
   "source": [
    "os.rename(\"test1.txt\" , \"newtest.txt\")\n",
    "#to rename the old file with the new file name , first old name and then new name"
   ]
  },
  {
   "cell_type": "code",
   "execution_count": 69,
   "id": "e10a0571",
   "metadata": {},
   "outputs": [],
   "source": [
    "import shutil"
   ]
  },
  {
   "cell_type": "code",
   "execution_count": 70,
   "id": "b1620b94",
   "metadata": {},
   "outputs": [
    {
     "data": {
      "text/plain": [
       "'new_copy_newdata.txt'"
      ]
     },
     "execution_count": 70,
     "metadata": {},
     "output_type": "execute_result"
    }
   ],
   "source": [
    "shutil.copy(\"newtest.txt\", \"new_copy_newdata.txt\")\n",
    "#now copy is created of the existing data , first we give the old name and then give the new name to the copy data file"
   ]
  },
  {
   "cell_type": "code",
   "execution_count": 73,
   "id": "5e46df2d",
   "metadata": {},
   "outputs": [
    {
     "name": "stdout",
     "output_type": "stream",
     "text": [
      "this is my fileAssam Electricity Grid Corporation Limited. Last Date: 11/06/2023.   Assam Electricity Grid Corporation Limited (AEGCL) has released an employment notification for the recruitment of 109 Assistant Manager and Junior Manager vacancy in Assam Electricity Grid CorporationAssam Electricity Grid Corporation Limited. Last Date: 11/06/2023.   Assam Electricity Grid Corporation Limited (AEGCL) has released an employment notification for the recruitment of 109 Assistant Manager and Junior Manager vacancy in Assam Electricity Grid Corporation\n"
     ]
    }
   ],
   "source": [
    "with open(\"newtest.txt\",\"r\") as f:\n",
    "    print(f.read())\n",
    "    #this way we can also write or read the data from the file \n",
    "    #f is allish so we execute the operation within the f\n",
    "    "
   ]
  },
  {
   "cell_type": "code",
   "execution_count": 74,
   "id": "8ca36687",
   "metadata": {},
   "outputs": [],
   "source": [
    "#files reading and writing"
   ]
  },
  {
   "cell_type": "code",
   "execution_count": 77,
   "id": "b56548e8",
   "metadata": {},
   "outputs": [],
   "source": [
    "data = {\n",
    "    \"name\": \"pankaj\",\n",
    "    \"mail_id\": \"pankaj@gmail.com\",\n",
    "    \"phone_no\": 987654557,\n",
    "    \"subject\": [\"datascience\",\"big data\",\"data analytics\"]\n",
    "}"
   ]
  },
  {
   "cell_type": "code",
   "execution_count": 78,
   "id": "545bb3d0",
   "metadata": {},
   "outputs": [],
   "source": [
    "import json\n",
    "# we import the json file , it will record key value pair\n"
   ]
  },
  {
   "cell_type": "code",
   "execution_count": 79,
   "id": "986f558b",
   "metadata": {},
   "outputs": [],
   "source": [
    "with open(\"data.json\", \"w\") as f:\n",
    "    json.dump(data,f)"
   ]
  },
  {
   "cell_type": "code",
   "execution_count": 80,
   "id": "d8a71c1d",
   "metadata": {},
   "outputs": [],
   "source": [
    "#to open the data of json file\n",
    "with open(\"data.json\", \"r\") as f:\n",
    "    data1 = json.load(f)\n"
   ]
  },
  {
   "cell_type": "code",
   "execution_count": 81,
   "id": "23e0d2ef",
   "metadata": {},
   "outputs": [
    {
     "data": {
      "text/plain": [
       "{'name': 'pankaj',\n",
       " 'mail_id': 'pankaj@gmail.com',\n",
       " 'phone_no': 987654557,\n",
       " 'subject': ['datascience', 'big data', 'data analytics']}"
      ]
     },
     "execution_count": 81,
     "metadata": {},
     "output_type": "execute_result"
    }
   ],
   "source": [
    "data1\n",
    "#now we load the data from the json file "
   ]
  },
  {
   "cell_type": "code",
   "execution_count": 82,
   "id": "bfd7a1aa",
   "metadata": {},
   "outputs": [
    {
     "data": {
      "text/plain": [
       "['datascience', 'big data', 'data analytics']"
      ]
     },
     "execution_count": 82,
     "metadata": {},
     "output_type": "execute_result"
    }
   ],
   "source": [
    "data1['subject']"
   ]
  },
  {
   "cell_type": "code",
   "execution_count": 83,
   "id": "5f8ef2ac",
   "metadata": {},
   "outputs": [],
   "source": [
    "#comma separated file working , for the we import csv for data\n",
    "import csv"
   ]
  },
  {
   "cell_type": "code",
   "execution_count": 84,
   "id": "0b8d0e2e",
   "metadata": {},
   "outputs": [],
   "source": [
    "data = [[\"name\",\"email_id\",\"phone_no\"],\n",
    "        [\"pankaj\",\"pankaj@gmail.com\",7896754532],\n",
    "        [\"shekhar\",\"shekhar@gmail.com\",8988776655]\n",
    "       ]"
   ]
  },
  {
   "cell_type": "code",
   "execution_count": 85,
   "id": "08ee531a",
   "metadata": {},
   "outputs": [],
   "source": [
    "with open(\"data.csv\",\"w\") as f:\n",
    "    writer = csv.writer(f)\n",
    "    \n",
    "    for i in data:\n",
    "        writer.writerow(i)\n",
    "        #first we create a file as data.csv and then write a variable writer , and we one by one execute the data"
   ]
  },
  {
   "cell_type": "code",
   "execution_count": 86,
   "id": "4b5efb89",
   "metadata": {},
   "outputs": [
    {
     "name": "stdout",
     "output_type": "stream",
     "text": [
      "['name', 'email_id', 'phone_no']\n",
      "['pankaj', 'pankaj@gmail.com', '7896754532']\n",
      "['shekhar', 'shekhar@gmail.com', '8988776655']\n"
     ]
    }
   ],
   "source": [
    "with open(\"data.csv\",'r') as f:\n",
    "    read_data = csv.reader(f)\n",
    "    \n",
    "    for i in read_data:\n",
    "        print(i)\n",
    "        \n",
    "        \n",
    "        #successfully we read the data we use csv and json liabrary"
   ]
  },
  {
   "cell_type": "code",
   "execution_count": 89,
   "id": "8ed24cb6",
   "metadata": {},
   "outputs": [],
   "source": [
    "#create binary file (machine low level code)\n",
    "with open(\"test4.bin\", \"wb\") as f:\n",
    "    f.write(b\"\\x01\\x02\\x03\\x088867\")\n",
    "    \n",
    "    \n",
    "    #here we write only for 3 dots of red\n",
    "    #here bin is the format for binary data, wb as a write binary file ,f.write is the func and b is for binery x01/x02 is the coded"
   ]
  },
  {
   "cell_type": "code",
   "execution_count": 91,
   "id": "d8bd4494",
   "metadata": {},
   "outputs": [
    {
     "name": "stdout",
     "output_type": "stream",
     "text": [
      "b'\\x01\\x02\\x03\\x088867'\n"
     ]
    }
   ],
   "source": [
    "#to read the data from file\n",
    "with open(\"test4.bin\",\"rb\") as f:\n",
    "    print(f.read())\n",
    "    #successfully read the data from the file format"
   ]
  },
  {
   "cell_type": "code",
   "execution_count": 92,
   "id": "46b22285",
   "metadata": {},
   "outputs": [],
   "source": [
    "#Buffered Read And Write Other File Methods"
   ]
  },
  {
   "cell_type": "code",
   "execution_count": 93,
   "id": "5fc6f748",
   "metadata": {},
   "outputs": [],
   "source": [
    "import io"
   ]
  },
  {
   "cell_type": "code",
   "execution_count": 103,
   "id": "758df7db",
   "metadata": {},
   "outputs": [],
   "source": [
    "with open(\"text1.txt\",\"wb\") as f:\n",
    "    file = io.BufferedWriter(f)\n",
    "    \n",
    "    file.write(b\"this is my first line\\n\")\n",
    "    file.write(b\"this is my second line\\n\")\n",
    "    \n",
    "    file.flush()\n",
    "    #when use buffer to close the program we us flash"
   ]
  },
  {
   "cell_type": "code",
   "execution_count": 106,
   "id": "e82000b9",
   "metadata": {},
   "outputs": [
    {
     "name": "stdout",
     "output_type": "stream",
     "text": [
      "b'this is my first line\\nthis is my second line\\n'\n"
     ]
    }
   ],
   "source": [
    "with open(\"text1.txt\",\"rb\") as f:\n",
    "    file = io.BufferedReader(f)\n",
    "    data = file.read() # we can give the size of data of read 10,100,n no of byte or bydeafult blank\n",
    "    print(data)\n",
    "    #read the data"
   ]
  },
  {
   "cell_type": "code",
   "execution_count": 107,
   "id": "b06a29ed",
   "metadata": {},
   "outputs": [],
   "source": [
    "#Logging Debugger\n"
   ]
  },
  {
   "cell_type": "code",
   "execution_count": 129,
   "id": "007feffe",
   "metadata": {},
   "outputs": [],
   "source": [
    "import logging\n",
    "#logging is used to store the data paramanently , print only prints the data but login store parmanently"
   ]
  },
  {
   "cell_type": "code",
   "execution_count": 130,
   "id": "c4911578",
   "metadata": {},
   "outputs": [],
   "source": [
    "logging.basicConfig(filename = \"test.log\", level = logging.INFO)\n",
    "\n",
    "#to log , we done basicconfig and the create a. file name and define the level \n",
    "#in future to invastigate any kind of error and anything then we use logging file , so dont use print"
   ]
  },
  {
   "cell_type": "code",
   "execution_count": 131,
   "id": "7931d264",
   "metadata": {},
   "outputs": [],
   "source": [
    "logging.info(\"log this line of execution\")"
   ]
  },
  {
   "cell_type": "code",
   "execution_count": 132,
   "id": "46e2c40f",
   "metadata": {},
   "outputs": [],
   "source": [
    "logging.error(\"log this error msg\")"
   ]
  },
  {
   "cell_type": "code",
   "execution_count": 133,
   "id": "8be9e344",
   "metadata": {},
   "outputs": [],
   "source": [
    "logging.shutdown()"
   ]
  },
  {
   "cell_type": "code",
   "execution_count": null,
   "id": "9e1f97ec",
   "metadata": {},
   "outputs": [],
   "source": [
    "There is 6 level in logging\n",
    "1.NOTSET\n",
    "2.DEBUG\n",
    "3.INFO\n",
    "4.WARNING\n",
    "5.ERROR\n",
    "6.CRITICAL\n",
    "When we use INFO then we can log data including INFO , warning , error , critical , so debug and notset is not used here"
   ]
  },
  {
   "cell_type": "code",
   "execution_count": null,
   "id": "aac6c728",
   "metadata": {},
   "outputs": [],
   "source": [
    "But if we use debug and notset then msg will not log because we use info thats why \n"
   ]
  },
  {
   "cell_type": "code",
   "execution_count": 1,
   "id": "7a15ac6e",
   "metadata": {},
   "outputs": [],
   "source": [
    "import logging"
   ]
  },
  {
   "cell_type": "code",
   "execution_count": 2,
   "id": "0c3d07cc",
   "metadata": {},
   "outputs": [],
   "source": [
    "logging.basicConfig(filename = \"test1.log\", level = logging.DEBUG, format = '%(asctime)s %(message)s')\n",
    "#here we define the level and format to store the data and time also s for string \n"
   ]
  },
  {
   "cell_type": "code",
   "execution_count": 3,
   "id": "bfb59dca",
   "metadata": {},
   "outputs": [],
   "source": [
    "logging.info(\"this is my info\")\n",
    "logging.warning(\"this is my warning message\")\n",
    "logging.critical(\"this is my critical message\")\n",
    "#it will save the data with time date and message"
   ]
  },
  {
   "cell_type": "code",
   "execution_count": 4,
   "id": "b1b40494",
   "metadata": {},
   "outputs": [],
   "source": [
    "logging.shutdown()"
   ]
  },
  {
   "cell_type": "code",
   "execution_count": 1,
   "id": "92d72f15",
   "metadata": {},
   "outputs": [],
   "source": [
    "import logging"
   ]
  },
  {
   "cell_type": "code",
   "execution_count": 2,
   "id": "c9d22d27",
   "metadata": {},
   "outputs": [],
   "source": [
    "logging.basicConfig(filename = \"test2.log\", level = logging.DEBUG , format = '%(asctime)s %(name)s %(levelname)s %(message)s')"
   ]
  },
  {
   "cell_type": "code",
   "execution_count": 4,
   "id": "75fbe117",
   "metadata": {},
   "outputs": [],
   "source": [
    "logging.info(\"this is my info\")\n",
    "logging.warning(\"this is my warning message\")\n",
    "logging.critical(\"this is my critical message\")\n",
    "#here it will store all the message log , root user time date and message , "
   ]
  },
  {
   "cell_type": "code",
   "execution_count": 5,
   "id": "fc49899f",
   "metadata": {},
   "outputs": [],
   "source": [
    "l = [1,2,3,54,55,[7,8,9], \"pankaj\", \"sharma\"]\n",
    "#store the list in one log file and store string in another log file"
   ]
  },
  {
   "cell_type": "code",
   "execution_count": 16,
   "id": "1ff07d5c",
   "metadata": {},
   "outputs": [],
   "source": [
    "l1_int = []\n",
    "l2_str = []\n",
    "for i in l :\n",
    "    logging.info(\"we are iterating through our list and our local variable i\" + str(l)) #it will log the string also as a message\n",
    "    if type(i) == list:\n",
    "        logging.info(\"here we inside the list and check the int type {}\".format(l))\n",
    "        for j in i:\n",
    "            if type(j) == int :\n",
    "                l1_int.append(j)\n",
    "    elif type(i) == int:\n",
    "        l1_int.append(i)\n",
    "    else :\n",
    "        if type(i) == str:\n",
    "            l2_str.append(i)\n",
    "logging.info(\"my final result for int is {l1} and str is {l2}\".format(l1 = l1_int, l2 = l2_str))\n",
    "#here we use the placeholder to store the value {} - using this we use placeholder , and format it by .format option"
   ]
  },
  {
   "cell_type": "code",
   "execution_count": 17,
   "id": "7fea0697",
   "metadata": {},
   "outputs": [
    {
     "data": {
      "text/plain": [
       "[1, 2, 3, 54, 55, 7, 8, 9]"
      ]
     },
     "execution_count": 17,
     "metadata": {},
     "output_type": "execute_result"
    }
   ],
   "source": [
    "l1_int"
   ]
  },
  {
   "cell_type": "code",
   "execution_count": null,
   "id": "608a15bc",
   "metadata": {},
   "outputs": [],
   "source": []
  }
 ],
 "metadata": {
  "kernelspec": {
   "display_name": "Python 3 (ipykernel)",
   "language": "python",
   "name": "python3"
  },
  "language_info": {
   "codemirror_mode": {
    "name": "ipython",
    "version": 3
   },
   "file_extension": ".py",
   "mimetype": "text/x-python",
   "name": "python",
   "nbconvert_exporter": "python",
   "pygments_lexer": "ipython3",
   "version": "3.10.9"
  }
 },
 "nbformat": 4,
 "nbformat_minor": 5
}
