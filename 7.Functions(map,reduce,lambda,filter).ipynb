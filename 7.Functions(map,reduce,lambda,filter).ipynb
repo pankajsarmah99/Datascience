{
 "cells": [
  {
   "cell_type": "code",
   "execution_count": 4,
   "id": "9cfc3c36",
   "metadata": {},
   "outputs": [],
   "source": [
    "def test():\n",
    "    print(\"this is function\")\n",
    "    #this way we define the function , def is for simple defenaction and then fun name and ():\n",
    "    #if we write print within the fun then we didn't concatinate with the string \n",
    "    #so usually we can't write the print instead of that we write return so that it will return something"
   ]
  },
  {
   "cell_type": "code",
   "execution_count": 3,
   "id": "df1e94df",
   "metadata": {},
   "outputs": [
    {
     "name": "stdout",
     "output_type": "stream",
     "text": [
      "this is function\n"
     ]
    }
   ],
   "source": [
    "test()"
   ]
  },
  {
   "cell_type": "code",
   "execution_count": 5,
   "id": "e02f7ac5",
   "metadata": {},
   "outputs": [],
   "source": [
    "def test1():\n",
    "    return \"this is my first return\""
   ]
  },
  {
   "cell_type": "code",
   "execution_count": 6,
   "id": "5b72ff4d",
   "metadata": {},
   "outputs": [
    {
     "data": {
      "text/plain": [
       "'this is my first return'"
      ]
     },
     "execution_count": 6,
     "metadata": {},
     "output_type": "execute_result"
    }
   ],
   "source": [
    "test1()"
   ]
  },
  {
   "cell_type": "code",
   "execution_count": 7,
   "id": "5478bc77",
   "metadata": {},
   "outputs": [
    {
     "data": {
      "text/plain": [
       "'this is my first returnpankaj'"
      ]
     },
     "execution_count": 7,
     "metadata": {},
     "output_type": "execute_result"
    }
   ],
   "source": [
    "test1() + \"pankaj\"\n",
    "#like this we add string with function"
   ]
  },
  {
   "cell_type": "code",
   "execution_count": 8,
   "id": "44815a7c",
   "metadata": {},
   "outputs": [],
   "source": [
    "def test2():\n",
    "    return \"pankaj\",23,345.55,[1,2,3,4]\n",
    "#it will return in touples "
   ]
  },
  {
   "cell_type": "code",
   "execution_count": 9,
   "id": "7caf3591",
   "metadata": {},
   "outputs": [
    {
     "data": {
      "text/plain": [
       "('pankaj', 23, 345.55, [1, 2, 3, 4])"
      ]
     },
     "execution_count": 9,
     "metadata": {},
     "output_type": "execute_result"
    }
   ],
   "source": [
    "test2()"
   ]
  },
  {
   "cell_type": "code",
   "execution_count": 10,
   "id": "eafe90dd",
   "metadata": {},
   "outputs": [],
   "source": [
    "def test3(a,b,c):\n",
    "    d = a+b/c\n",
    "    return d\n",
    "#here user will give the input as they need as basis ."
   ]
  },
  {
   "cell_type": "code",
   "execution_count": 11,
   "id": "cdd2f65e",
   "metadata": {},
   "outputs": [
    {
     "data": {
      "text/plain": [
       "4.75"
      ]
     },
     "execution_count": 11,
     "metadata": {},
     "output_type": "execute_result"
    }
   ],
   "source": [
    "test3(4,6,8)"
   ]
  },
  {
   "cell_type": "code",
   "execution_count": 16,
   "id": "01655770",
   "metadata": {},
   "outputs": [],
   "source": [
    "def test4(a,b):\n",
    "    return a + b\n",
    "#this way we can concatinate the string"
   ]
  },
  {
   "cell_type": "code",
   "execution_count": 15,
   "id": "db3221a8",
   "metadata": {},
   "outputs": [
    {
     "data": {
      "text/plain": [
       "'pankajsarmah'"
      ]
     },
     "execution_count": 15,
     "metadata": {},
     "output_type": "execute_result"
    }
   ],
   "source": [
    "test4(\"pankaj\",\"sarmah\")"
   ]
  },
  {
   "cell_type": "code",
   "execution_count": 17,
   "id": "48ead523",
   "metadata": {},
   "outputs": [],
   "source": [
    "l = [1,2,3,4,\"pankaj\",\"ravi\",[3445.543,43,322,45]]"
   ]
  },
  {
   "cell_type": "code",
   "execution_count": 20,
   "id": "720f3a48",
   "metadata": {},
   "outputs": [],
   "source": [
    "l1=[]\n",
    "for i in l:\n",
    "    if type(i) == int or type(i) == float:\n",
    "        l1.append(i)"
   ]
  },
  {
   "cell_type": "code",
   "execution_count": 21,
   "id": "f7d57f14",
   "metadata": {},
   "outputs": [
    {
     "data": {
      "text/plain": [
       "[1, 2, 3, 4, 3445.543, 43, 322, 45]"
      ]
     },
     "execution_count": 21,
     "metadata": {},
     "output_type": "execute_result"
    }
   ],
   "source": [
    "l1"
   ]
  },
  {
   "cell_type": "code",
   "execution_count": 25,
   "id": "01cfcce4",
   "metadata": {},
   "outputs": [],
   "source": [
    "def test7(l):\n",
    "    l1=[]\n",
    "    for i in l:\n",
    "         if type(i) == int or type(i) == float:\n",
    "                     l1.append(i)\n",
    "    return l1"
   ]
  },
  {
   "cell_type": "code",
   "execution_count": 26,
   "id": "9b86b332",
   "metadata": {},
   "outputs": [
    {
     "data": {
      "text/plain": [
       "[5, 5, 7, 7, 8, 88]"
      ]
     },
     "execution_count": 26,
     "metadata": {},
     "output_type": "execute_result"
    }
   ],
   "source": [
    "test7([5,5,7,7,8,88,])"
   ]
  },
  {
   "cell_type": "code",
   "execution_count": 32,
   "id": "dd2465dc",
   "metadata": {},
   "outputs": [],
   "source": [
    "def test8(a):\n",
    "    \"\"\" this is my fun to extract num data from the list \"\"\"\n",
    "    l=[]\n",
    "    for i in a:\n",
    "        if type(i) == list:\n",
    "            for j in i:\n",
    "                l.append(j)\n",
    "        else:\n",
    "            if type(i) == int or type(i) == float:\n",
    "                l.append(i)\n",
    "    return l\n",
    "#like this we can find the element in the list by creating a function , here we simply create \n",
    "#a function and then check the condition if there is any list inside the list or int or float value\n",
    "#if available then it will rturn in a single list \n",
    "#\"\"\" \"\"\" we can document the function ,  it is called docsting ,multi line comment \n",
    "# by using this we can find the shift + tab key and know the function doc\n",
    "# we use docstring for future understanding"
   ]
  },
  {
   "cell_type": "code",
   "execution_count": 29,
   "id": "e07c8d63",
   "metadata": {},
   "outputs": [
    {
     "data": {
      "text/plain": [
       "[54, 5, 6, 4, 3, 33, 444, 56, 655, 4433]"
      ]
     },
     "execution_count": 29,
     "metadata": {},
     "output_type": "execute_result"
    }
   ],
   "source": [
    "test8([54,5,6,4,3,33,444,[56,655,4433,]])"
   ]
  },
  {
   "cell_type": "code",
   "execution_count": 33,
   "id": "f5fa9c85",
   "metadata": {},
   "outputs": [],
   "source": [
    "def test9(*args):\n",
    "    return args\n",
    "#by *args using this we create dynamic now it will accept maximum no of aruments as per user need\n",
    "#and it is type of touple \n",
    "#* = staric means n no of args , how much you need enter args in place of args we can use any keyword ,only we need to use * only "
   ]
  },
  {
   "cell_type": "code",
   "execution_count": 36,
   "id": "9300910b",
   "metadata": {},
   "outputs": [],
   "source": [
    "def test9(*pank, a):\n",
    "    return pank, a\n",
    "# when we use a also we need to define the value of a in the function , here we define in below "
   ]
  },
  {
   "cell_type": "code",
   "execution_count": 37,
   "id": "6ec44b3a",
   "metadata": {},
   "outputs": [
    {
     "data": {
      "text/plain": [
       "((4749, 544, 3, 2, 2), 67)"
      ]
     },
     "execution_count": 37,
     "metadata": {},
     "output_type": "execute_result"
    }
   ],
   "source": [
    "test9(4749,544,3,2,2, a = 67)"
   ]
  },
  {
   "cell_type": "code",
   "execution_count": 38,
   "id": "31d02627",
   "metadata": {},
   "outputs": [],
   "source": [
    "def test10(c,d, a = 49, b=89):\n",
    "    return a,b,c,d"
   ]
  },
  {
   "cell_type": "code",
   "execution_count": 39,
   "id": "06980544",
   "metadata": {},
   "outputs": [
    {
     "data": {
      "text/plain": [
       "(49, 89, 67, 988)"
      ]
     },
     "execution_count": 39,
     "metadata": {},
     "output_type": "execute_result"
    }
   ],
   "source": [
    "test10(67,988)"
   ]
  },
  {
   "cell_type": "code",
   "execution_count": 40,
   "id": "8bb302cd",
   "metadata": {},
   "outputs": [],
   "source": [
    "#if we pass dict in function like key and value we use **kwargs\n",
    "def test11(**kwargs):\n",
    "    return kwargs"
   ]
  },
  {
   "cell_type": "code",
   "execution_count": 42,
   "id": "d3101a38",
   "metadata": {},
   "outputs": [
    {
     "data": {
      "text/plain": [
       "dict"
      ]
     },
     "execution_count": 42,
     "metadata": {},
     "output_type": "execute_result"
    }
   ],
   "source": [
    "type(test11())\n",
    "#it is a type of dict "
   ]
  },
  {
   "cell_type": "code",
   "execution_count": 43,
   "id": "439d1cf3",
   "metadata": {},
   "outputs": [
    {
     "data": {
      "text/plain": [
       "{'a': [3, 54, 43, 22], 'b': 'pankaj', 'c': 'kumar', 'd': 34.44}"
      ]
     },
     "execution_count": 43,
     "metadata": {},
     "output_type": "execute_result"
    }
   ],
   "source": [
    "#like this we pass the key value in the function\n",
    "test11(a=[3,54,43,22,], b = \"pankaj\", c = \"kumar\", d = 34.44)\n",
    "#it will return a dictionary "
   ]
  },
  {
   "cell_type": "code",
   "execution_count": 44,
   "id": "509e4339",
   "metadata": {},
   "outputs": [],
   "source": [
    "#In Python, a generator is a function that returns an iterator that produces a sequence of values when iterated over.\n",
    "\n",
    "#Generators are useful when we want to produce a large sequence of values, but we don't want to store all of them in memory at once.\n"
   ]
  },
  {
   "cell_type": "code",
   "execution_count": 45,
   "id": "202afd99",
   "metadata": {},
   "outputs": [],
   "source": [
    "#fibonachi by using generator funcion ,yield is used to return thr value in gen fun"
   ]
  },
  {
   "cell_type": "code",
   "execution_count": 53,
   "id": "cf319756",
   "metadata": {},
   "outputs": [],
   "source": [
    "def test_fib(n):\n",
    "    a,b = 0, 1\n",
    "    for i in range(n):\n",
    "        yield a\n",
    "        a, b = b , a+b\n",
    "        #where we use yield that is generator function , yield will through the data and we print below\n",
    "        #for better memory utilization we use generator function\n",
    "        "
   ]
  },
  {
   "cell_type": "code",
   "execution_count": 49,
   "id": "b847c0f6",
   "metadata": {},
   "outputs": [
    {
     "name": "stdout",
     "output_type": "stream",
     "text": [
      "0\n",
      "1\n",
      "1\n",
      "2\n",
      "3\n",
      "5\n",
      "8\n",
      "13\n",
      "21\n",
      "34\n"
     ]
    }
   ],
   "source": [
    "for i in test_fib(10):\n",
    "    print(i)"
   ]
  },
  {
   "cell_type": "code",
   "execution_count": 50,
   "id": "7c4a9fbd",
   "metadata": {},
   "outputs": [
    {
     "data": {
      "text/plain": [
       "<generator object test_fib at 0x109027290>"
      ]
     },
     "execution_count": 50,
     "metadata": {},
     "output_type": "execute_result"
    }
   ],
   "source": [
    "test_fib(8)"
   ]
  },
  {
   "cell_type": "code",
   "execution_count": 55,
   "id": "95740796",
   "metadata": {},
   "outputs": [],
   "source": [
    "def test_fib1():\n",
    "    a,b = 0,1\n",
    "    while True:\n",
    "        yield a\n",
    "        a,b = b, a+b\n",
    "        # here we create a function "
   ]
  },
  {
   "cell_type": "code",
   "execution_count": 61,
   "id": "39c04e0c",
   "metadata": {},
   "outputs": [],
   "source": [
    "#now we cretae a obj of the fun\n",
    "fib = test_fib1()"
   ]
  },
  {
   "cell_type": "code",
   "execution_count": 70,
   "id": "56262ef4",
   "metadata": {},
   "outputs": [
    {
     "name": "stdout",
     "output_type": "stream",
     "text": [
      "12586269025\n",
      "20365011074\n",
      "32951280099\n",
      "53316291173\n",
      "86267571272\n"
     ]
    }
   ],
   "source": [
    "for i in range(5):\n",
    "    print(next(fib))\n",
    "    #we put in iterater and print , and in iterator we go to next"
   ]
  },
  {
   "cell_type": "code",
   "execution_count": 80,
   "id": "d0a0a842",
   "metadata": {},
   "outputs": [],
   "source": [
    "s = \"pankaj\"\n",
    "s1 = iter(s)\n",
    "#in iter only string can insert , we can put string in iter() , and call the next function to get the next element\n",
    "#generater will generate one by one all element of the list\n",
    "#iterator will go one by one at the element "
   ]
  },
  {
   "cell_type": "code",
   "execution_count": 72,
   "id": "76dd19c6",
   "metadata": {},
   "outputs": [
    {
     "data": {
      "text/plain": [
       "'p'"
      ]
     },
     "execution_count": 72,
     "metadata": {},
     "output_type": "execute_result"
    }
   ],
   "source": [
    "next(s1)"
   ]
  },
  {
   "cell_type": "code",
   "execution_count": 74,
   "id": "50da1242",
   "metadata": {},
   "outputs": [
    {
     "data": {
      "text/plain": [
       "'p'"
      ]
     },
     "execution_count": 74,
     "metadata": {},
     "output_type": "execute_result"
    }
   ],
   "source": [
    "next(s1)"
   ]
  },
  {
   "cell_type": "code",
   "execution_count": 75,
   "id": "df055684",
   "metadata": {},
   "outputs": [
    {
     "data": {
      "text/plain": [
       "'a'"
      ]
     },
     "execution_count": 75,
     "metadata": {},
     "output_type": "execute_result"
    }
   ],
   "source": [
    "next(s1)"
   ]
  },
  {
   "cell_type": "code",
   "execution_count": 76,
   "id": "cf40efc3",
   "metadata": {},
   "outputs": [
    {
     "data": {
      "text/plain": [
       "'n'"
      ]
     },
     "execution_count": 76,
     "metadata": {},
     "output_type": "execute_result"
    }
   ],
   "source": [
    "next(s1)"
   ]
  },
  {
   "cell_type": "code",
   "execution_count": 77,
   "id": "c03db5a4",
   "metadata": {},
   "outputs": [
    {
     "data": {
      "text/plain": [
       "'k'"
      ]
     },
     "execution_count": 77,
     "metadata": {},
     "output_type": "execute_result"
    }
   ],
   "source": [
    "next(s1)"
   ]
  },
  {
   "cell_type": "code",
   "execution_count": 81,
   "id": "11e563fc",
   "metadata": {},
   "outputs": [],
   "source": [
    "#in this way we create generator() and to generate conitue it. after function create we crate obj of c and we call the object and print it\n",
    "#yield used means generator function , it will conitue geenrates the items that need \n",
    "def count_test(n):\n",
    "    count = 1\n",
    "    while count < n:\n",
    "        yield count\n",
    "        count = count + 1\n",
    "        "
   ]
  },
  {
   "cell_type": "code",
   "execution_count": 82,
   "id": "b6c96068",
   "metadata": {},
   "outputs": [],
   "source": [
    "c = count_test(10)\n"
   ]
  },
  {
   "cell_type": "code",
   "execution_count": 91,
   "id": "d1b9cc42",
   "metadata": {},
   "outputs": [],
   "source": [
    "for i in c:\n",
    "    print(i)"
   ]
  },
  {
   "cell_type": "code",
   "execution_count": 92,
   "id": "abd17b1f",
   "metadata": {},
   "outputs": [
    {
     "data": {
      "text/plain": [
       "generator"
      ]
     },
     "execution_count": 92,
     "metadata": {},
     "output_type": "execute_result"
    }
   ],
   "source": [
    "type(c)"
   ]
  },
  {
   "cell_type": "code",
   "execution_count": 93,
   "id": "7c27e80e",
   "metadata": {},
   "outputs": [],
   "source": [
    "for i in c:\n",
    "    print(i)"
   ]
  },
  {
   "cell_type": "code",
   "execution_count": 95,
   "id": "3fbff6b6",
   "metadata": {},
   "outputs": [
    {
     "data": {
      "text/plain": [
       "9"
      ]
     },
     "execution_count": 95,
     "metadata": {},
     "output_type": "execute_result"
    }
   ],
   "source": [
    "#Lambda Function \n",
    "# In Python, a lambda function is a special type of function without the function name. \n",
    "a = lambda n,p : n**p #this type of fun called one liner function , or annonomus fun\n",
    "a(3,2) #this way we call the function \n"
   ]
  },
  {
   "cell_type": "code",
   "execution_count": 96,
   "id": "277695e5",
   "metadata": {},
   "outputs": [],
   "source": [
    "add = lambda a,b: a+b"
   ]
  },
  {
   "cell_type": "code",
   "execution_count": 97,
   "id": "042172ac",
   "metadata": {},
   "outputs": [
    {
     "data": {
      "text/plain": [
       "9"
      ]
     },
     "execution_count": 97,
     "metadata": {},
     "output_type": "execute_result"
    }
   ],
   "source": [
    "add(4,5)"
   ]
  },
  {
   "cell_type": "code",
   "execution_count": 98,
   "id": "4915cd8e",
   "metadata": {},
   "outputs": [],
   "source": [
    "#temp to farenhide \n",
    "c_to_f = lambda c: (9/5)*c + 32"
   ]
  },
  {
   "cell_type": "code",
   "execution_count": 99,
   "id": "04371f59",
   "metadata": {},
   "outputs": [
    {
     "data": {
      "text/plain": [
       "93.2"
      ]
     },
     "execution_count": 99,
     "metadata": {},
     "output_type": "execute_result"
    }
   ],
   "source": [
    "c_to_f(34)"
   ]
  },
  {
   "cell_type": "code",
   "execution_count": 100,
   "id": "b4fe45e8",
   "metadata": {},
   "outputs": [],
   "source": [
    "#finding the maximum no using lambda\n",
    "finding_max = lambda x,y: x if x>y else y"
   ]
  },
  {
   "cell_type": "code",
   "execution_count": 101,
   "id": "1f4f6966",
   "metadata": {},
   "outputs": [
    {
     "data": {
      "text/plain": [
       "99"
      ]
     },
     "execution_count": 101,
     "metadata": {},
     "output_type": "execute_result"
    }
   ],
   "source": [
    "finding_max(45,99)"
   ]
  },
  {
   "cell_type": "code",
   "execution_count": 102,
   "id": "b4187e96",
   "metadata": {},
   "outputs": [],
   "source": [
    "s = \"datascience\""
   ]
  },
  {
   "cell_type": "code",
   "execution_count": 103,
   "id": "5b9a3cbd",
   "metadata": {},
   "outputs": [],
   "source": [
    "find_len = lambda s: len(s)\n",
    "#this way we find the length of the string by using lambda function\n"
   ]
  },
  {
   "cell_type": "code",
   "execution_count": 104,
   "id": "7980ab3a",
   "metadata": {},
   "outputs": [
    {
     "data": {
      "text/plain": [
       "11"
      ]
     },
     "execution_count": 104,
     "metadata": {},
     "output_type": "execute_result"
    }
   ],
   "source": [
    "find_len(s)"
   ]
  },
  {
   "cell_type": "code",
   "execution_count": 105,
   "id": "5914f619",
   "metadata": {},
   "outputs": [],
   "source": [
    "#Map Reduce & Fliter Function"
   ]
  },
  {
   "cell_type": "code",
   "execution_count": 106,
   "id": "8d1e4b79",
   "metadata": {},
   "outputs": [],
   "source": [
    "l = [2,3,4,5,6]"
   ]
  },
  {
   "cell_type": "code",
   "execution_count": null,
   "id": "4dba9a36",
   "metadata": {},
   "outputs": [],
   "source": [
    "#map function , it takes 2 arugment , function and iterable , Python’s map() is a built-in function that allows you to process and transform all the items in an iterable without using an explicit for loop, a technique commonly known as mapping. map() is useful when you need to apply a transformation function to each item in an iterable and transform them into a new iterable."
   ]
  },
  {
   "cell_type": "code",
   "execution_count": 107,
   "id": "77277677",
   "metadata": {},
   "outputs": [],
   "source": [
    "def sq(x):\n",
    "    return x**2\n",
    "#basically here we create a fun and in list we use map function ."
   ]
  },
  {
   "cell_type": "code",
   "execution_count": 108,
   "id": "6234c227",
   "metadata": {},
   "outputs": [
    {
     "data": {
      "text/plain": [
       "[4, 9, 16, 25, 36]"
      ]
     },
     "execution_count": 108,
     "metadata": {},
     "output_type": "execute_result"
    }
   ],
   "source": [
    "list(map(sq,l))\n",
    "#using map function "
   ]
  },
  {
   "cell_type": "code",
   "execution_count": 4,
   "id": "e2df5b57",
   "metadata": {},
   "outputs": [],
   "source": [
    "l = [2,3,4,56,7]"
   ]
  },
  {
   "cell_type": "code",
   "execution_count": 6,
   "id": "d557600d",
   "metadata": {},
   "outputs": [
    {
     "data": {
      "text/plain": [
       "[4, 9, 16, 3136, 49]"
      ]
     },
     "execution_count": 6,
     "metadata": {},
     "output_type": "execute_result"
    }
   ],
   "source": [
    "list(map(lambda x:x**2,l))\n",
    "#using lambda fun we use in one line and find the sqr of l without making fun , with the help of mapping "
   ]
  },
  {
   "cell_type": "code",
   "execution_count": 8,
   "id": "ddb1c174",
   "metadata": {},
   "outputs": [
    {
     "data": {
      "text/plain": [
       "[36, 18, 18, 19, 19]"
      ]
     },
     "execution_count": 8,
     "metadata": {},
     "output_type": "execute_result"
    }
   ],
   "source": [
    "#add two list \n",
    "l1 = [3,4,5,7,8]\n",
    "l2 = [33,14,13,12,11]\n",
    "list(map(lambda x,y : x+y,l1,l2))\n",
    "#here map function map the list and we get output of two list in one list"
   ]
  },
  {
   "cell_type": "code",
   "execution_count": 9,
   "id": "d94bbad1",
   "metadata": {},
   "outputs": [
    {
     "data": {
      "text/plain": [
       "['D', 'A', 'T', 'A', 'S', 'C', 'I', 'E', 'N', 'C', 'E']"
      ]
     },
     "execution_count": 9,
     "metadata": {},
     "output_type": "execute_result"
    }
   ],
   "source": [
    "s = \"datascience\"\n",
    "list(map(lambda s: s.upper(),s))"
   ]
  },
  {
   "cell_type": "code",
   "execution_count": 10,
   "id": "4a2a58bc",
   "metadata": {},
   "outputs": [],
   "source": [
    "#reduce function \n",
    "from functools import reduce"
   ]
  },
  {
   "cell_type": "code",
   "execution_count": 11,
   "id": "6948a22d",
   "metadata": {},
   "outputs": [],
   "source": [
    "l = [5,6,3,4,566,88,90]"
   ]
  },
  {
   "cell_type": "code",
   "execution_count": 13,
   "id": "98ef1990",
   "metadata": {},
   "outputs": [
    {
     "data": {
      "text/plain": [
       "762"
      ]
     },
     "execution_count": 13,
     "metadata": {},
     "output_type": "execute_result"
    }
   ],
   "source": [
    "reduce(lambda x, y : x + y,l)\n",
    "#reduce function will reduce the list and give us only one output by reducing the input \n",
    "#we can only pass 2 parameter in reduce fun , if we pass 3 parameter then it gives an error"
   ]
  },
  {
   "cell_type": "code",
   "execution_count": 14,
   "id": "58080331",
   "metadata": {},
   "outputs": [
    {
     "data": {
      "text/plain": [
       "9"
      ]
     },
     "execution_count": 14,
     "metadata": {},
     "output_type": "execute_result"
    }
   ],
   "source": [
    "#we can also give the list inside the reduce function , but we can't give more than 2 varible inside the reduce function\n",
    "reduce(lambda x,y:x+y,[4,5])"
   ]
  },
  {
   "cell_type": "code",
   "execution_count": 15,
   "id": "99320d9f",
   "metadata": {},
   "outputs": [
    {
     "data": {
      "text/plain": [
       "1613779200"
      ]
     },
     "execution_count": 15,
     "metadata": {},
     "output_type": "execute_result"
    }
   ],
   "source": [
    "reduce(lambda x,y: x*y,l)\n",
    "#it will give the sum of the list ,in one shot"
   ]
  },
  {
   "cell_type": "code",
   "execution_count": 16,
   "id": "36f339c9",
   "metadata": {},
   "outputs": [
    {
     "data": {
      "text/plain": [
       "[5, 6, 3, 4, 566, 88, 90]"
      ]
     },
     "execution_count": 16,
     "metadata": {},
     "output_type": "execute_result"
    }
   ],
   "source": [
    "l"
   ]
  },
  {
   "cell_type": "code",
   "execution_count": 18,
   "id": "90e33287",
   "metadata": {},
   "outputs": [
    {
     "data": {
      "text/plain": [
       "566"
      ]
     },
     "execution_count": 18,
     "metadata": {},
     "output_type": "execute_result"
    }
   ],
   "source": [
    "#find highest element from the list\n",
    "reduce(lambda x,y:x if x>y else y,l)"
   ]
  },
  {
   "cell_type": "code",
   "execution_count": 19,
   "id": "125422e7",
   "metadata": {},
   "outputs": [
    {
     "data": {
      "text/plain": [
       "[5, 6, 3, 4, 566, 88, 90]"
      ]
     },
     "execution_count": 19,
     "metadata": {},
     "output_type": "execute_result"
    }
   ],
   "source": [
    "l"
   ]
  },
  {
   "cell_type": "code",
   "execution_count": 20,
   "id": "db91257b",
   "metadata": {},
   "outputs": [],
   "source": [
    "l1 = [1,2,3,4,5,6,7,8]"
   ]
  },
  {
   "cell_type": "code",
   "execution_count": 22,
   "id": "70a40d25",
   "metadata": {},
   "outputs": [
    {
     "data": {
      "text/plain": [
       "[2, 4, 6, 8]"
      ]
     },
     "execution_count": 22,
     "metadata": {},
     "output_type": "execute_result"
    }
   ],
   "source": [
    "#filter fun to filter from the data\n",
    "list(filter (lambda x: x %2==0 , l1))\n",
    "#find all even no from the list "
   ]
  },
  {
   "cell_type": "code",
   "execution_count": 23,
   "id": "14f98779",
   "metadata": {},
   "outputs": [
    {
     "data": {
      "text/plain": [
       "[-4, -8, -9]"
      ]
     },
     "execution_count": 23,
     "metadata": {},
     "output_type": "execute_result"
    }
   ],
   "source": [
    "l2 = [-4,-8,-9,8,3,2,1]\n",
    "list(filter(lambda x: x<0,l2))\n",
    "#find negative no"
   ]
  },
  {
   "cell_type": "code",
   "execution_count": 25,
   "id": "08a268af",
   "metadata": {},
   "outputs": [
    {
     "data": {
      "text/plain": [
       "['india', 'japan']"
      ]
     },
     "execution_count": 25,
     "metadata": {},
     "output_type": "execute_result"
    }
   ],
   "source": [
    "l3 = [\"pankaj\",\"india\",\"canada\",\"japan\"]\n",
    "list(filter(lambda x:len(x)<6,l3))\n",
    "#find string len less than 6 \n",
    "#so we use lambda , filter , map and reduce function to solve problems "
   ]
  },
  {
   "cell_type": "code",
   "execution_count": null,
   "id": "047c4587",
   "metadata": {},
   "outputs": [],
   "source": []
  }
 ],
 "metadata": {
  "kernelspec": {
   "display_name": "Python 3 (ipykernel)",
   "language": "python",
   "name": "python3"
  },
  "language_info": {
   "codemirror_mode": {
    "name": "ipython",
    "version": 3
   },
   "file_extension": ".py",
   "mimetype": "text/x-python",
   "name": "python",
   "nbconvert_exporter": "python",
   "pygments_lexer": "ipython3",
   "version": "3.10.9"
  }
 },
 "nbformat": 4,
 "nbformat_minor": 5
}
